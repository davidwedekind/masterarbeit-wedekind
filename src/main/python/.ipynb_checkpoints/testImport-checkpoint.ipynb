{
 "cells": [
  {
   "cell_type": "markdown",
   "metadata": {},
   "source": [
    "## PART 1"
   ]
  },
  {
   "cell_type": "code",
   "execution_count": null,
   "metadata": {},
   "outputs": [],
   "source": [
    "from analysis.sim_import import parse_trips_file, parse_legs_file\n",
    "from analysis.utils import load_df_to_database, load_db_parameters"
   ]
  },
  {
   "cell_type": "code",
   "execution_count": null,
   "metadata": {},
   "outputs": [],
   "source": [
    "import pandas as pd\n",
    "import geopandas as gpd"
   ]
  },
  {
   "cell_type": "code",
   "execution_count": null,
   "metadata": {},
   "outputs": [],
   "source": [
    "trips = 'Y:/stuttgart-v1.0/05_stuttgart-v1.0_scenariotest/output/output-m5_2/m5_2.output_trips.csv.gz'\n",
    "db_parameter = 'C:/Users/david/OneDrive/02_Uni/02_Master/05_Masterarbeit/03_MATSim/03_analysis/01_calibration/db_param_10pct.json'\n",
    "db_parameter = load_db_parameters(db_parameter)"
   ]
  },
  {
   "cell_type": "code",
   "execution_count": null,
   "metadata": {},
   "outputs": [],
   "source": [
    "gdf = parse_trips_file(trips)"
   ]
  },
  {
   "cell_type": "code",
   "execution_count": null,
   "metadata": {},
   "outputs": [],
   "source": [
    "gdf.head(3)"
   ]
  },
  {
   "cell_type": "code",
   "execution_count": null,
   "metadata": {},
   "outputs": [],
   "source": [
    "gdf.loc[1144]"
   ]
  },
  {
   "cell_type": "code",
   "execution_count": null,
   "metadata": {},
   "outputs": [],
   "source": [
    "sample = gdf.sample(n=3)\n",
    "sample"
   ]
  },
  {
   "cell_type": "code",
   "execution_count": null,
   "metadata": {},
   "outputs": [],
   "source": [
    "table_name = 'sim_trips_raw'\n",
    "table_schema = 'matsim_output'\n",
    "\n",
    "DATA_METADATA = {\n",
    "    'title': 'Trips',\n",
    "    'description': 'Trip table',\n",
    "    'source_name': 'Senozon Input',\n",
    "    'source_url': 'Nan',\n",
    "    'source_year': '2020',\n",
    "    'source_download_date': 'Nan',\n",
    "}"
   ]
  },
  {
   "cell_type": "code",
   "execution_count": null,
   "metadata": {},
   "outputs": [],
   "source": [
    "load_df_to_database(\n",
    "    df=sample,\n",
    "    update_mode='append',\n",
    "    db_parameter=db_parameter,\n",
    "    schema=table_schema,\n",
    "    table_name=table_name,\n",
    "    meta_data=DATA_METADATA,\n",
    "    geom_cols={'geometry': 'LINESTRING'})"
   ]
  },
  {
   "cell_type": "markdown",
   "metadata": {},
   "source": [
    "## PART 2"
   ]
  },
  {
   "cell_type": "code",
   "execution_count": null,
   "metadata": {},
   "outputs": [],
   "source": [
    "import pandas as pd"
   ]
  },
  {
   "cell_type": "code",
   "execution_count": null,
   "metadata": {},
   "outputs": [],
   "source": [
    "calib = 'C:/Users/david/OneDrive/02_Uni/02_Master/05_Masterarbeit/03_MATSim/01_prep/05_CalibrationData/Calibration_Data_v2.xlsx'\n",
    "table = pd.read_excel(calib, sheet_name='05_OEVSegmente', skipfooter=10)"
   ]
  },
  {
   "cell_type": "code",
   "execution_count": null,
   "metadata": {},
   "outputs": [],
   "source": [
    "table"
   ]
  },
  {
   "cell_type": "markdown",
   "metadata": {},
   "source": [
    "## PART 3"
   ]
  },
  {
   "cell_type": "code",
   "execution_count": 1,
   "metadata": {},
   "outputs": [],
   "source": [
    "import pandas as pd\n",
    "import geopandas as gpd\n",
    "from matsim import read_network"
   ]
  },
  {
   "cell_type": "code",
   "execution_count": 2,
   "metadata": {},
   "outputs": [],
   "source": [
    "network = 'C:/Users/david/Desktop/bc.output_network.xml.gz'"
   ]
  },
  {
   "cell_type": "code",
   "execution_count": 3,
   "metadata": {},
   "outputs": [],
   "source": [
    "network = read_network(network, True)\n",
    "gdf_network = network.as_geo()\n",
    "gdf_network = gdf_network.set_crs(epsg=25832)"
   ]
  },
  {
   "cell_type": "code",
   "execution_count": 8,
   "metadata": {},
   "outputs": [
    {
     "data": {
      "text/html": [
       "<div>\n",
       "<style scoped>\n",
       "    .dataframe tbody tr th:only-of-type {\n",
       "        vertical-align: middle;\n",
       "    }\n",
       "\n",
       "    .dataframe tbody tr th {\n",
       "        vertical-align: top;\n",
       "    }\n",
       "\n",
       "    .dataframe thead th {\n",
       "        text-align: right;\n",
       "    }\n",
       "</style>\n",
       "<table border=\"1\" class=\"dataframe\">\n",
       "  <thead>\n",
       "    <tr style=\"text-align: right;\">\n",
       "      <th></th>\n",
       "    </tr>\n",
       "  </thead>\n",
       "  <tbody>\n",
       "  </tbody>\n",
       "</table>\n",
       "</div>"
      ],
      "text/plain": [
       "Empty DataFrame\n",
       "Columns: []\n",
       "Index: []"
      ]
     },
     "execution_count": 8,
     "metadata": {},
     "output_type": "execute_result"
    }
   ],
   "source": [
    "network.link_attrs"
   ]
  },
  {
   "cell_type": "code",
   "execution_count": null,
   "metadata": {},
   "outputs": [],
   "source": [
    "gdf_network.head(3)"
   ]
  },
  {
   "cell_type": "markdown",
   "metadata": {},
   "source": [
    "## PART 4"
   ]
  },
  {
   "cell_type": "code",
   "execution_count": 1,
   "metadata": {},
   "outputs": [],
   "source": [
    "import pandas as pd\n",
    "import geopandas as gpd"
   ]
  },
  {
   "cell_type": "code",
   "execution_count": 2,
   "metadata": {},
   "outputs": [],
   "source": [
    "network = \"C:/Users/david/OneDrive/02_Uni/02_Master/05_Masterarbeit/03_MATSim/02_runs/stuttgart-v1.0/05_stuttgart-v1.0_scenariotest/output/output-m5_1/network-shp/m5_1.network.shp\"\n",
    "gdf = gpd.read_file(network)"
   ]
  },
  {
   "cell_type": "code",
   "execution_count": 4,
   "metadata": {},
   "outputs": [
    {
     "data": {
      "text/html": [
       "<div>\n",
       "<style scoped>\n",
       "    .dataframe tbody tr th:only-of-type {\n",
       "        vertical-align: middle;\n",
       "    }\n",
       "\n",
       "    .dataframe tbody tr th {\n",
       "        vertical-align: top;\n",
       "    }\n",
       "\n",
       "    .dataframe thead th {\n",
       "        text-align: right;\n",
       "    }\n",
       "</style>\n",
       "<table border=\"1\" class=\"dataframe\">\n",
       "  <thead>\n",
       "    <tr style=\"text-align: right;\">\n",
       "      <th></th>\n",
       "      <th>Id</th>\n",
       "      <th>Length</th>\n",
       "      <th>capacity</th>\n",
       "      <th>lanes</th>\n",
       "      <th>Freespeed</th>\n",
       "      <th>Modes</th>\n",
       "      <th>zone_name</th>\n",
       "      <th>zone_group</th>\n",
       "      <th>h_costs</th>\n",
       "      <th>dmax_costs</th>\n",
       "      <th>max_time</th>\n",
       "      <th>penalty</th>\n",
       "      <th>res_costs</th>\n",
       "      <th>geometry</th>\n",
       "    </tr>\n",
       "  </thead>\n",
       "  <tbody>\n",
       "    <tr>\n",
       "      <th>0</th>\n",
       "      <td>10000014</td>\n",
       "      <td>50.53</td>\n",
       "      <td>1200.0</td>\n",
       "      <td>2.0</td>\n",
       "      <td>9.47</td>\n",
       "      <td>car,ride,walk,bike</td>\n",
       "      <td>None</td>\n",
       "      <td>None</td>\n",
       "      <td>0.0</td>\n",
       "      <td>0.0</td>\n",
       "      <td>30.0</td>\n",
       "      <td>0.0</td>\n",
       "      <td>0.0</td>\n",
       "      <td>LINESTRING (477508.123 5466441.289, 477459.281...</td>\n",
       "    </tr>\n",
       "    <tr>\n",
       "      <th>1</th>\n",
       "      <td>10000015</td>\n",
       "      <td>61.02</td>\n",
       "      <td>1200.0</td>\n",
       "      <td>2.0</td>\n",
       "      <td>9.56</td>\n",
       "      <td>car,ride,walk,bike</td>\n",
       "      <td>None</td>\n",
       "      <td>None</td>\n",
       "      <td>0.0</td>\n",
       "      <td>0.0</td>\n",
       "      <td>30.0</td>\n",
       "      <td>0.0</td>\n",
       "      <td>0.0</td>\n",
       "      <td>LINESTRING (477508.123 5466441.289, 477557.847...</td>\n",
       "    </tr>\n",
       "    <tr>\n",
       "      <th>2</th>\n",
       "      <td>10000026</td>\n",
       "      <td>61.02</td>\n",
       "      <td>1200.0</td>\n",
       "      <td>2.0</td>\n",
       "      <td>9.52</td>\n",
       "      <td>car,ride,walk,bike</td>\n",
       "      <td>None</td>\n",
       "      <td>None</td>\n",
       "      <td>0.0</td>\n",
       "      <td>0.0</td>\n",
       "      <td>30.0</td>\n",
       "      <td>0.0</td>\n",
       "      <td>0.0</td>\n",
       "      <td>LINESTRING (477557.847 5466406.321, 477508.123...</td>\n",
       "    </tr>\n",
       "  </tbody>\n",
       "</table>\n",
       "</div>"
      ],
      "text/plain": [
       "         Id  Length  capacity  lanes  Freespeed               Modes zone_name  \\\n",
       "0  10000014   50.53    1200.0    2.0       9.47  car,ride,walk,bike      None   \n",
       "1  10000015   61.02    1200.0    2.0       9.56  car,ride,walk,bike      None   \n",
       "2  10000026   61.02    1200.0    2.0       9.52  car,ride,walk,bike      None   \n",
       "\n",
       "  zone_group  h_costs  dmax_costs  max_time  penalty  res_costs  \\\n",
       "0       None      0.0         0.0      30.0      0.0        0.0   \n",
       "1       None      0.0         0.0      30.0      0.0        0.0   \n",
       "2       None      0.0         0.0      30.0      0.0        0.0   \n",
       "\n",
       "                                            geometry  \n",
       "0  LINESTRING (477508.123 5466441.289, 477459.281...  \n",
       "1  LINESTRING (477508.123 5466441.289, 477557.847...  \n",
       "2  LINESTRING (477557.847 5466406.321, 477508.123...  "
      ]
     },
     "execution_count": 4,
     "metadata": {},
     "output_type": "execute_result"
    }
   ],
   "source": [
    "gdf.head(3)"
   ]
  },
  {
   "cell_type": "code",
   "execution_count": 5,
   "metadata": {},
   "outputs": [
    {
     "data": {
      "text/plain": [
       "<Projected CRS: EPSG:25832>\n",
       "Name: ETRS89 / UTM zone 32N\n",
       "Axis Info [cartesian]:\n",
       "- E[east]: Easting (metre)\n",
       "- N[north]: Northing (metre)\n",
       "Area of Use:\n",
       "- name: Europe - 6°E to 12°E and ETRS89 by country\n",
       "- bounds: (6.0, 38.76, 12.0, 83.92)\n",
       "Coordinate Operation:\n",
       "- name: UTM zone 32N\n",
       "- method: Transverse Mercator\n",
       "Datum: European Terrestrial Reference System 1989\n",
       "- Ellipsoid: GRS 1980\n",
       "- Prime Meridian: Greenwich"
      ]
     },
     "execution_count": 5,
     "metadata": {},
     "output_type": "execute_result"
    }
   ],
   "source": [
    "gdf.crs"
   ]
  },
  {
   "cell_type": "markdown",
   "metadata": {},
   "source": [
    "## PART 5"
   ]
  },
  {
   "cell_type": "code",
   "execution_count": 1,
   "metadata": {},
   "outputs": [],
   "source": [
    "import xml.etree.ElementTree as ET\n",
    "import gzip\n",
    "import pandas as pd\n",
    "import shapely as shp\n",
    "import geopandas as gpd"
   ]
  },
  {
   "cell_type": "code",
   "execution_count": 2,
   "metadata": {},
   "outputs": [],
   "source": [
    "tSFile = \"C:/Users/david/Desktop/m5_ex.output_transitSchedule.xml.gz\""
   ]
  },
  {
   "cell_type": "code",
   "execution_count": 12,
   "metadata": {},
   "outputs": [
    {
     "name": "stdout",
     "output_type": "stream",
     "text": [
      "false\n"
     ]
    }
   ],
   "source": [
    "transitStops = list()\n",
    "\n",
    "try:\n",
    "    with gzip.open(tSFile) as f:\n",
    "        tree = ET.parse(f)\n",
    "        root = tree.getroot()\n",
    "        \n",
    "        for tSF in root.find('./transitStops'):\n",
    "               \n",
    "        transitStops.append({\n",
    "            \"id\": tSF.attrib['id'],\n",
    "            \"x\": tSF.attrib['x'],\n",
    "            \"y\": tSF.attrib['y'],\n",
    "            \"link_ref_id\": tSF.attrib['linkRefId'],\n",
    "            \"name\": tSF.attrib['name'],\n",
    "            \"is_blocking\": tSF.attrib['isBlocking'],\n",
    "            \"vvs_bike_ride\": tSF.find('./attributes/attribute[@name=\"VVSBikeAndRide\"]').text\n",
    "                  \n",
    "            })\n",
    "                \n",
    "            \n",
    "except OSError as e:\n",
    "    raise Exception(e.strerror)\n",
    "    \n",
    "transitStops = pd.DataFrame(transitStops)"
   ]
  },
  {
   "cell_type": "code",
   "execution_count": 5,
   "metadata": {},
   "outputs": [
    {
     "data": {
      "text/html": [
       "<div>\n",
       "<style scoped>\n",
       "    .dataframe tbody tr th:only-of-type {\n",
       "        vertical-align: middle;\n",
       "    }\n",
       "\n",
       "    .dataframe tbody tr th {\n",
       "        vertical-align: top;\n",
       "    }\n",
       "\n",
       "    .dataframe thead th {\n",
       "        text-align: right;\n",
       "    }\n",
       "</style>\n",
       "<table border=\"1\" class=\"dataframe\">\n",
       "  <thead>\n",
       "    <tr style=\"text-align: right;\">\n",
       "      <th></th>\n",
       "      <th>id</th>\n",
       "      <th>x</th>\n",
       "      <th>y</th>\n",
       "      <th>linkRefId</th>\n",
       "      <th>name</th>\n",
       "      <th>isBlocking</th>\n",
       "      <th>geometry</th>\n",
       "    </tr>\n",
       "  </thead>\n",
       "  <tbody>\n",
       "    <tr>\n",
       "      <th>0</th>\n",
       "      <td>100185</td>\n",
       "      <td>503026.79157291225</td>\n",
       "      <td>5481587.615674013</td>\n",
       "      <td>tr372608</td>\n",
       "      <td>Gaimühle Sägewerk, Eberbach</td>\n",
       "      <td>false</td>\n",
       "      <td>POINT (503026.792 5481587.616)</td>\n",
       "    </tr>\n",
       "    <tr>\n",
       "      <th>1</th>\n",
       "      <td>100185.1</td>\n",
       "      <td>503026.79157291225</td>\n",
       "      <td>5481587.615674013</td>\n",
       "      <td>tr372621</td>\n",
       "      <td>Gaimühle Sägewerk, Eberbach</td>\n",
       "      <td>false</td>\n",
       "      <td>POINT (503026.792 5481587.616)</td>\n",
       "    </tr>\n",
       "    <tr>\n",
       "      <th>2</th>\n",
       "      <td>100186</td>\n",
       "      <td>498323.42781285214</td>\n",
       "      <td>5489709.952489486</td>\n",
       "      <td>tr356468</td>\n",
       "      <td>Beerfelden Seeweg, Oberzent</td>\n",
       "      <td>false</td>\n",
       "      <td>POINT (498323.428 5489709.952)</td>\n",
       "    </tr>\n",
       "    <tr>\n",
       "      <th>3</th>\n",
       "      <td>100186.1</td>\n",
       "      <td>498323.42781285214</td>\n",
       "      <td>5489709.952489486</td>\n",
       "      <td>tr356481</td>\n",
       "      <td>Beerfelden Seeweg, Oberzent</td>\n",
       "      <td>false</td>\n",
       "      <td>POINT (498323.428 5489709.952)</td>\n",
       "    </tr>\n",
       "    <tr>\n",
       "      <th>4</th>\n",
       "      <td>100186.2</td>\n",
       "      <td>498323.42781285214</td>\n",
       "      <td>5489709.952489486</td>\n",
       "      <td>tr356490</td>\n",
       "      <td>Beerfelden Seeweg, Oberzent</td>\n",
       "      <td>false</td>\n",
       "      <td>POINT (498323.428 5489709.952)</td>\n",
       "    </tr>\n",
       "    <tr>\n",
       "      <th>...</th>\n",
       "      <td>...</td>\n",
       "      <td>...</td>\n",
       "      <td>...</td>\n",
       "      <td>...</td>\n",
       "      <td>...</td>\n",
       "      <td>...</td>\n",
       "      <td>...</td>\n",
       "    </tr>\n",
       "    <tr>\n",
       "      <th>52411</th>\n",
       "      <td>941089.1</td>\n",
       "      <td>466277.8405306667</td>\n",
       "      <td>5410371.3784105275</td>\n",
       "      <td>tr479306</td>\n",
       "      <td>Schwann Kalkstatt, Straubenhardt</td>\n",
       "      <td>false</td>\n",
       "      <td>POINT (466277.841 5410371.378)</td>\n",
       "    </tr>\n",
       "    <tr>\n",
       "      <th>52412</th>\n",
       "      <td>941091</td>\n",
       "      <td>477044.6313894393</td>\n",
       "      <td>5406327.62251384</td>\n",
       "      <td>tr507136</td>\n",
       "      <td>Kapfenhardt Hausackerweg, Unterreichenbach</td>\n",
       "      <td>false</td>\n",
       "      <td>POINT (477044.631 5406327.623)</td>\n",
       "    </tr>\n",
       "    <tr>\n",
       "      <th>52413</th>\n",
       "      <td>941092</td>\n",
       "      <td>476863.51338851167</td>\n",
       "      <td>5406100.484584558</td>\n",
       "      <td>tr507137</td>\n",
       "      <td>Kapfenhardt Linde, Unterreichenbach</td>\n",
       "      <td>false</td>\n",
       "      <td>POINT (476863.513 5406100.485)</td>\n",
       "    </tr>\n",
       "    <tr>\n",
       "      <th>52414</th>\n",
       "      <td>941092.1</td>\n",
       "      <td>476863.51338851167</td>\n",
       "      <td>5406100.484584558</td>\n",
       "      <td>tr543758</td>\n",
       "      <td>Kapfenhardt Linde, Unterreichenbach</td>\n",
       "      <td>false</td>\n",
       "      <td>POINT (476863.513 5406100.485)</td>\n",
       "    </tr>\n",
       "    <tr>\n",
       "      <th>52415</th>\n",
       "      <td>941092.2</td>\n",
       "      <td>476863.51338851167</td>\n",
       "      <td>5406100.484584558</td>\n",
       "      <td>tr543780</td>\n",
       "      <td>Kapfenhardt Linde, Unterreichenbach</td>\n",
       "      <td>false</td>\n",
       "      <td>POINT (476863.513 5406100.485)</td>\n",
       "    </tr>\n",
       "  </tbody>\n",
       "</table>\n",
       "<p>52416 rows × 7 columns</p>\n",
       "</div>"
      ],
      "text/plain": [
       "             id                   x                   y linkRefId  \\\n",
       "0        100185  503026.79157291225   5481587.615674013  tr372608   \n",
       "1      100185.1  503026.79157291225   5481587.615674013  tr372621   \n",
       "2        100186  498323.42781285214   5489709.952489486  tr356468   \n",
       "3      100186.1  498323.42781285214   5489709.952489486  tr356481   \n",
       "4      100186.2  498323.42781285214   5489709.952489486  tr356490   \n",
       "...         ...                 ...                 ...       ...   \n",
       "52411  941089.1   466277.8405306667  5410371.3784105275  tr479306   \n",
       "52412    941091   477044.6313894393    5406327.62251384  tr507136   \n",
       "52413    941092  476863.51338851167   5406100.484584558  tr507137   \n",
       "52414  941092.1  476863.51338851167   5406100.484584558  tr543758   \n",
       "52415  941092.2  476863.51338851167   5406100.484584558  tr543780   \n",
       "\n",
       "                                             name isBlocking  \\\n",
       "0                     Gaimühle Sägewerk, Eberbach      false   \n",
       "1                     Gaimühle Sägewerk, Eberbach      false   \n",
       "2                     Beerfelden Seeweg, Oberzent      false   \n",
       "3                     Beerfelden Seeweg, Oberzent      false   \n",
       "4                     Beerfelden Seeweg, Oberzent      false   \n",
       "...                                           ...        ...   \n",
       "52411            Schwann Kalkstatt, Straubenhardt      false   \n",
       "52412  Kapfenhardt Hausackerweg, Unterreichenbach      false   \n",
       "52413         Kapfenhardt Linde, Unterreichenbach      false   \n",
       "52414         Kapfenhardt Linde, Unterreichenbach      false   \n",
       "52415         Kapfenhardt Linde, Unterreichenbach      false   \n",
       "\n",
       "                             geometry  \n",
       "0      POINT (503026.792 5481587.616)  \n",
       "1      POINT (503026.792 5481587.616)  \n",
       "2      POINT (498323.428 5489709.952)  \n",
       "3      POINT (498323.428 5489709.952)  \n",
       "4      POINT (498323.428 5489709.952)  \n",
       "...                               ...  \n",
       "52411  POINT (466277.841 5410371.378)  \n",
       "52412  POINT (477044.631 5406327.623)  \n",
       "52413  POINT (476863.513 5406100.485)  \n",
       "52414  POINT (476863.513 5406100.485)  \n",
       "52415  POINT (476863.513 5406100.485)  \n",
       "\n",
       "[52416 rows x 7 columns]"
      ]
     },
     "execution_count": 5,
     "metadata": {},
     "output_type": "execute_result"
    }
   ],
   "source": [
    "transitStops = gpd.GeoDataFrame(transitStops, geometry=gpd.points_from_xy(transitStops.x, transitStops.y))"
   ]
  },
  {
   "cell_type": "markdown",
   "metadata": {},
   "source": [
    "## PART 6"
   ]
  },
  {
   "cell_type": "code",
   "execution_count": 1,
   "metadata": {},
   "outputs": [],
   "source": [
    "import pandas as pd\n",
    "import geopandas as gpd\n",
    "import matsim"
   ]
  },
  {
   "cell_type": "code",
   "execution_count": 2,
   "metadata": {},
   "outputs": [],
   "source": [
    "plans_str = \"C:/Users/david/OneDrive/02_Uni/02_Master/05_Masterarbeit/03_MATSim/02_runs/stuttgart-v1.0/01_stuttgart-v1.0_fstRun01/input/stuttgart-v1.0-10pct.plans.xml.gz\""
   ]
  },
  {
   "cell_type": "code",
   "execution_count": 5,
   "metadata": {},
   "outputs": [
    {
     "name": "stdout",
     "output_type": "stream",
     "text": [
      "67166005_456\n"
     ]
    }
   ],
   "source": [
    "plans = matsim.plan_reader(plans_str, selectedPlansOnly=True)\n",
    "\n",
    "for person, plan in plans:\n",
    "    no = 0\n",
    "    print(person.attrib['id'])\n",
    "    for e in plans:\n",
    "        no = no + 1       \n",
    "        "
   ]
  },
  {
   "cell_type": "code",
   "execution_count": 8,
   "metadata": {},
   "outputs": [
    {
     "data": {
      "text/html": [
       "<div>\n",
       "<style scoped>\n",
       "    .dataframe tbody tr th:only-of-type {\n",
       "        vertical-align: middle;\n",
       "    }\n",
       "\n",
       "    .dataframe tbody tr th {\n",
       "        vertical-align: top;\n",
       "    }\n",
       "\n",
       "    .dataframe thead th {\n",
       "        text-align: right;\n",
       "    }\n",
       "</style>\n",
       "<table border=\"1\" class=\"dataframe\">\n",
       "  <thead>\n",
       "    <tr style=\"text-align: right;\">\n",
       "      <th></th>\n",
       "    </tr>\n",
       "  </thead>\n",
       "  <tbody>\n",
       "  </tbody>\n",
       "</table>\n",
       "</div>"
      ],
      "text/plain": [
       "Empty DataFrame\n",
       "Columns: []\n",
       "Index: []"
      ]
     },
     "execution_count": 8,
     "metadata": {},
     "output_type": "execute_result"
    }
   ],
   "source": [
    "pd.DataFrame(activities)"
   ]
  },
  {
   "cell_type": "code",
   "execution_count": null,
   "metadata": {},
   "outputs": [],
   "source": [
    "    no = 0\n",
    "    for a in list(acts):\n",
    "            \n",
    "        if no != 0:\n",
    "            no = no + 1\n",
    "            activities.append({'person_id': p_id,\n",
    "                               'act_no': act_no,\n",
    "                               'act_type': act_type,\n",
    "                               'trigger': \"end\",\n",
    "                               'x': x,\n",
    "                               'y': y})\n",
    "\n",
    "        p_id = person.attrib['id']\n",
    "        act_no = no\n",
    "        act_type = a.attrib['type']\n",
    "        x = a.attrib['x']\n",
    "        y = a.attrib['y']\n",
    "\n",
    "        if no != 0:\n",
    "            activities.append({'person_id': p_id,\n",
    "                               'act_no': act_no,\n",
    "                               'act_type': act_type,\n",
    "                               'trigger': \"start\",\n",
    "                               'x': x,\n",
    "                               'y': y})\n",
    "\n",
    "\n",
    "\n",
    "df_activities = \n",
    "#gdf_activities = gpd.GeoDataFrame(df_activities.drop(columns=['x', 'y']),\n",
    "                                #geometry=gpd.points_from_xy(df_activities.x, df_activities.y))\n",
    "#gdf_activities = gdf_activities.set_crs(epsg=25832)"
   ]
  }
 ],
 "metadata": {
  "kernelspec": {
   "display_name": "Python 3",
   "language": "python",
   "name": "python3"
  },
  "language_info": {
   "codemirror_mode": {
    "name": "ipython",
    "version": 3
   },
   "file_extension": ".py",
   "mimetype": "text/x-python",
   "name": "python",
   "nbconvert_exporter": "python",
   "pygments_lexer": "ipython3",
   "version": "3.7.10"
  }
 },
 "nbformat": 4,
 "nbformat_minor": 4
}
