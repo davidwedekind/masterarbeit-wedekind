{
 "cells": [
  {
   "cell_type": "code",
   "execution_count": 1,
   "metadata": {},
   "outputs": [],
   "source": [
    "import pandas as pd\n",
    "import numpy as np\n",
    "import matplotlib.pyplot as plt"
   ]
  },
  {
   "cell_type": "markdown",
   "metadata": {},
   "source": [
    "# -- PREPARE --"
   ]
  },
  {
   "cell_type": "code",
   "execution_count": 2,
   "metadata": {},
   "outputs": [],
   "source": [
    "dtypes = {'trip_id': str, \n",
    "          'arrival_time': str,\n",
    "          'departure_time': str,\n",
    "          'stop_id': str, \n",
    "          'stop_headsign': str,\n",
    "          'route_short_name': str\n",
    "         }"
   ]
  },
  {
   "cell_type": "markdown",
   "metadata": {},
   "source": [
    "### Read-in stop times"
   ]
  },
  {
   "cell_type": "code",
   "execution_count": 3,
   "metadata": {},
   "outputs": [
    {
     "data": {
      "text/html": [
       "<div>\n",
       "<style scoped>\n",
       "    .dataframe tbody tr th:only-of-type {\n",
       "        vertical-align: middle;\n",
       "    }\n",
       "\n",
       "    .dataframe tbody tr th {\n",
       "        vertical-align: top;\n",
       "    }\n",
       "\n",
       "    .dataframe thead th {\n",
       "        text-align: right;\n",
       "    }\n",
       "</style>\n",
       "<table border=\"1\" class=\"dataframe\">\n",
       "  <thead>\n",
       "    <tr style=\"text-align: right;\">\n",
       "      <th></th>\n",
       "      <th>trip_id</th>\n",
       "      <th>arrival_time</th>\n",
       "      <th>departure_time</th>\n",
       "      <th>stop_id</th>\n",
       "      <th>stop_sequence</th>\n",
       "      <th>stop_headsign</th>\n",
       "      <th>pickup_type</th>\n",
       "      <th>drop_off_type</th>\n",
       "      <th>shape_dist_traveled</th>\n",
       "    </tr>\n",
       "  </thead>\n",
       "  <tbody>\n",
       "    <tr>\n",
       "      <th>0</th>\n",
       "      <td>86.T2.10-1-j21-1.10.R</td>\n",
       "      <td>14:35:00</td>\n",
       "      <td>14:35:00</td>\n",
       "      <td>de:08111:6052:1:2</td>\n",
       "      <td>1</td>\n",
       "      <td>NaN</td>\n",
       "      <td>0</td>\n",
       "      <td>0</td>\n",
       "      <td>0.00</td>\n",
       "    </tr>\n",
       "    <tr>\n",
       "      <th>1</th>\n",
       "      <td>86.T2.10-1-j21-1.10.R</td>\n",
       "      <td>14:36:00</td>\n",
       "      <td>14:37:00</td>\n",
       "      <td>de:08111:6221:1:2</td>\n",
       "      <td>2</td>\n",
       "      <td>NaN</td>\n",
       "      <td>0</td>\n",
       "      <td>0</td>\n",
       "      <td>738.21</td>\n",
       "    </tr>\n",
       "    <tr>\n",
       "      <th>2</th>\n",
       "      <td>86.T2.10-1-j21-1.10.R</td>\n",
       "      <td>14:38:00</td>\n",
       "      <td>14:38:00</td>\n",
       "      <td>de:08111:6056:1:2</td>\n",
       "      <td>3</td>\n",
       "      <td>NaN</td>\n",
       "      <td>0</td>\n",
       "      <td>0</td>\n",
       "      <td>1425.96</td>\n",
       "    </tr>\n",
       "  </tbody>\n",
       "</table>\n",
       "</div>"
      ],
      "text/plain": [
       "                 trip_id arrival_time departure_time            stop_id  \\\n",
       "0  86.T2.10-1-j21-1.10.R     14:35:00       14:35:00  de:08111:6052:1:2   \n",
       "1  86.T2.10-1-j21-1.10.R     14:36:00       14:37:00  de:08111:6221:1:2   \n",
       "2  86.T2.10-1-j21-1.10.R     14:38:00       14:38:00  de:08111:6056:1:2   \n",
       "\n",
       "   stop_sequence stop_headsign  pickup_type  drop_off_type  \\\n",
       "0              1           NaN            0              0   \n",
       "1              2           NaN            0              0   \n",
       "2              3           NaN            0              0   \n",
       "\n",
       "   shape_dist_traveled  \n",
       "0                 0.00  \n",
       "1               738.21  \n",
       "2              1425.96  "
      ]
     },
     "execution_count": 3,
     "metadata": {},
     "output_type": "execute_result"
    }
   ],
   "source": [
    "gtfs_stop_times = \"C:/Users/david/OneDrive/02_Uni/02_Master/05_Masterarbeit/03_MATSim/01_prep/07_Measures/02_pt_extension/google_transit/stop_times.txt\"\n",
    "df_stop_times = pd.read_table(gtfs_stop_times, sep=\",\", dtype=dtypes)\n",
    "df_stop_times.head(3)"
   ]
  },
  {
   "cell_type": "markdown",
   "metadata": {},
   "source": [
    "### Read in stops"
   ]
  },
  {
   "cell_type": "code",
   "execution_count": 4,
   "metadata": {},
   "outputs": [
    {
     "data": {
      "text/html": [
       "<div>\n",
       "<style scoped>\n",
       "    .dataframe tbody tr th:only-of-type {\n",
       "        vertical-align: middle;\n",
       "    }\n",
       "\n",
       "    .dataframe tbody tr th {\n",
       "        vertical-align: top;\n",
       "    }\n",
       "\n",
       "    .dataframe thead th {\n",
       "        text-align: right;\n",
       "    }\n",
       "</style>\n",
       "<table border=\"1\" class=\"dataframe\">\n",
       "  <thead>\n",
       "    <tr style=\"text-align: right;\">\n",
       "      <th></th>\n",
       "      <th>stop_id</th>\n",
       "      <th>stop_name</th>\n",
       "      <th>stop_lat</th>\n",
       "      <th>stop_lon</th>\n",
       "    </tr>\n",
       "  </thead>\n",
       "  <tbody>\n",
       "    <tr>\n",
       "      <th>0</th>\n",
       "      <td>de:08111:100:1:1</td>\n",
       "      <td>Stammheim</td>\n",
       "      <td>48.850046</td>\n",
       "      <td>9.156174</td>\n",
       "    </tr>\n",
       "    <tr>\n",
       "      <th>1</th>\n",
       "      <td>de:08111:100:2:3</td>\n",
       "      <td>Stammheim</td>\n",
       "      <td>48.849443</td>\n",
       "      <td>9.156022</td>\n",
       "    </tr>\n",
       "    <tr>\n",
       "      <th>2</th>\n",
       "      <td>de:08111:100:2:4</td>\n",
       "      <td>Stammheim</td>\n",
       "      <td>48.850217</td>\n",
       "      <td>9.156093</td>\n",
       "    </tr>\n",
       "  </tbody>\n",
       "</table>\n",
       "</div>"
      ],
      "text/plain": [
       "            stop_id  stop_name   stop_lat  stop_lon\n",
       "0  de:08111:100:1:1  Stammheim  48.850046  9.156174\n",
       "1  de:08111:100:2:3  Stammheim  48.849443  9.156022\n",
       "2  de:08111:100:2:4  Stammheim  48.850217  9.156093"
      ]
     },
     "execution_count": 4,
     "metadata": {},
     "output_type": "execute_result"
    }
   ],
   "source": [
    "gtfs_stops = \"C:/Users/david/OneDrive/02_Uni/02_Master/05_Masterarbeit/03_MATSim/01_prep/07_Measures/02_pt_extension/google_transit/stops.txt\"\n",
    "df_stops = pd.read_table(gtfs_stops, sep=\",\", dtype=dtypes)\n",
    "df_stops.head(3)"
   ]
  },
  {
   "cell_type": "markdown",
   "metadata": {},
   "source": [
    "### Read-in routes"
   ]
  },
  {
   "cell_type": "code",
   "execution_count": 5,
   "metadata": {},
   "outputs": [
    {
     "data": {
      "text/html": [
       "<div>\n",
       "<style scoped>\n",
       "    .dataframe tbody tr th:only-of-type {\n",
       "        vertical-align: middle;\n",
       "    }\n",
       "\n",
       "    .dataframe tbody tr th {\n",
       "        vertical-align: top;\n",
       "    }\n",
       "\n",
       "    .dataframe thead th {\n",
       "        text-align: right;\n",
       "    }\n",
       "</style>\n",
       "<table border=\"1\" class=\"dataframe\">\n",
       "  <thead>\n",
       "    <tr style=\"text-align: right;\">\n",
       "      <th></th>\n",
       "      <th>route_id</th>\n",
       "      <th>agency_id</th>\n",
       "      <th>route_short_name</th>\n",
       "      <th>route_long_name</th>\n",
       "      <th>route_type</th>\n",
       "      <th>route_color</th>\n",
       "      <th>route_text_color</th>\n",
       "    </tr>\n",
       "  </thead>\n",
       "  <tbody>\n",
       "    <tr>\n",
       "      <th>0</th>\n",
       "      <td>10-1-j21-1</td>\n",
       "      <td>NaN</td>\n",
       "      <td>S1</td>\n",
       "      <td>Kirchheim (T) - Plochingen - Stuttgart - Herre...</td>\n",
       "      <td>109</td>\n",
       "      <td>83b23b</td>\n",
       "      <td>FFFFFF</td>\n",
       "    </tr>\n",
       "    <tr>\n",
       "      <th>1</th>\n",
       "      <td>10-1-j21-10</td>\n",
       "      <td>NaN</td>\n",
       "      <td>S1</td>\n",
       "      <td>Kirchheim (T) - Plochingen - Stuttgart - Herre...</td>\n",
       "      <td>109</td>\n",
       "      <td>83b23b</td>\n",
       "      <td>FFFFFF</td>\n",
       "    </tr>\n",
       "    <tr>\n",
       "      <th>2</th>\n",
       "      <td>10-1-j21-12</td>\n",
       "      <td>NaN</td>\n",
       "      <td>S1</td>\n",
       "      <td>Kirchheim (T) - Plochingen - Stuttgart - Herre...</td>\n",
       "      <td>109</td>\n",
       "      <td>83b23b</td>\n",
       "      <td>FFFFFF</td>\n",
       "    </tr>\n",
       "  </tbody>\n",
       "</table>\n",
       "</div>"
      ],
      "text/plain": [
       "      route_id  agency_id route_short_name  \\\n",
       "0   10-1-j21-1        NaN               S1   \n",
       "1  10-1-j21-10        NaN               S1   \n",
       "2  10-1-j21-12        NaN               S1   \n",
       "\n",
       "                                     route_long_name  route_type route_color  \\\n",
       "0  Kirchheim (T) - Plochingen - Stuttgart - Herre...         109      83b23b   \n",
       "1  Kirchheim (T) - Plochingen - Stuttgart - Herre...         109      83b23b   \n",
       "2  Kirchheim (T) - Plochingen - Stuttgart - Herre...         109      83b23b   \n",
       "\n",
       "  route_text_color  \n",
       "0           FFFFFF  \n",
       "1           FFFFFF  \n",
       "2           FFFFFF  "
      ]
     },
     "execution_count": 5,
     "metadata": {},
     "output_type": "execute_result"
    }
   ],
   "source": [
    "gtfs_routes = \"C:/Users/david/OneDrive/02_Uni/02_Master/05_Masterarbeit/03_MATSim/01_prep/07_Measures/02_pt_extension/google_transit/routes.txt\"\n",
    "df_routes = pd.read_table(gtfs_routes, sep=\",\", dtype=dtypes)\n",
    "df_routes.head(3)"
   ]
  },
  {
   "cell_type": "markdown",
   "metadata": {},
   "source": [
    "### Read-in trips"
   ]
  },
  {
   "cell_type": "code",
   "execution_count": 6,
   "metadata": {},
   "outputs": [
    {
     "data": {
      "text/html": [
       "<div>\n",
       "<style scoped>\n",
       "    .dataframe tbody tr th:only-of-type {\n",
       "        vertical-align: middle;\n",
       "    }\n",
       "\n",
       "    .dataframe tbody tr th {\n",
       "        vertical-align: top;\n",
       "    }\n",
       "\n",
       "    .dataframe thead th {\n",
       "        text-align: right;\n",
       "    }\n",
       "</style>\n",
       "<table border=\"1\" class=\"dataframe\">\n",
       "  <thead>\n",
       "    <tr style=\"text-align: right;\">\n",
       "      <th></th>\n",
       "      <th>route_id</th>\n",
       "      <th>service_id</th>\n",
       "      <th>trip_id</th>\n",
       "      <th>shape_id</th>\n",
       "      <th>trip_headsign</th>\n",
       "      <th>direction_id</th>\n",
       "      <th>block_id</th>\n",
       "    </tr>\n",
       "  </thead>\n",
       "  <tbody>\n",
       "    <tr>\n",
       "      <th>0</th>\n",
       "      <td>10-1-j21-1</td>\n",
       "      <td>T0</td>\n",
       "      <td>1.T0.10-1-j21-1.3.H</td>\n",
       "      <td>10-1-j21-1.3.H</td>\n",
       "      <td>Herrenberg</td>\n",
       "      <td>0</td>\n",
       "      <td>NaN</td>\n",
       "    </tr>\n",
       "    <tr>\n",
       "      <th>1</th>\n",
       "      <td>10-1-j21-1</td>\n",
       "      <td>T2</td>\n",
       "      <td>1.T2.10-1-j21-1.12.R</td>\n",
       "      <td>10-1-j21-1.12.R</td>\n",
       "      <td>Kirchheim (T)</td>\n",
       "      <td>1</td>\n",
       "      <td>NaN</td>\n",
       "    </tr>\n",
       "    <tr>\n",
       "      <th>2</th>\n",
       "      <td>10-1-j21-1</td>\n",
       "      <td>T3</td>\n",
       "      <td>1.T3.10-1-j21-1.8.H</td>\n",
       "      <td>10-1-j21-1.8.H</td>\n",
       "      <td>Herrenberg</td>\n",
       "      <td>0</td>\n",
       "      <td>NaN</td>\n",
       "    </tr>\n",
       "  </tbody>\n",
       "</table>\n",
       "</div>"
      ],
      "text/plain": [
       "     route_id service_id               trip_id         shape_id  \\\n",
       "0  10-1-j21-1         T0   1.T0.10-1-j21-1.3.H   10-1-j21-1.3.H   \n",
       "1  10-1-j21-1         T2  1.T2.10-1-j21-1.12.R  10-1-j21-1.12.R   \n",
       "2  10-1-j21-1         T3   1.T3.10-1-j21-1.8.H   10-1-j21-1.8.H   \n",
       "\n",
       "   trip_headsign  direction_id  block_id  \n",
       "0     Herrenberg             0       NaN  \n",
       "1  Kirchheim (T)             1       NaN  \n",
       "2     Herrenberg             0       NaN  "
      ]
     },
     "execution_count": 6,
     "metadata": {},
     "output_type": "execute_result"
    }
   ],
   "source": [
    "gtfs_trips = \"C:/Users/david/OneDrive/02_Uni/02_Master/05_Masterarbeit/03_MATSim/01_prep/07_Measures/02_pt_extension/google_transit/trips.txt\"\n",
    "df_trips = pd.read_table(gtfs_trips, sep=\",\", dtype=dtypes)\n",
    "df_trips.head(3)"
   ]
  },
  {
   "cell_type": "markdown",
   "metadata": {},
   "source": [
    "### Merge"
   ]
  },
  {
   "cell_type": "code",
   "execution_count": 7,
   "metadata": {},
   "outputs": [
    {
     "data": {
      "text/html": [
       "<div>\n",
       "<style scoped>\n",
       "    .dataframe tbody tr th:only-of-type {\n",
       "        vertical-align: middle;\n",
       "    }\n",
       "\n",
       "    .dataframe tbody tr th {\n",
       "        vertical-align: top;\n",
       "    }\n",
       "\n",
       "    .dataframe thead th {\n",
       "        text-align: right;\n",
       "    }\n",
       "</style>\n",
       "<table border=\"1\" class=\"dataframe\">\n",
       "  <thead>\n",
       "    <tr style=\"text-align: right;\">\n",
       "      <th></th>\n",
       "      <th>trip_id</th>\n",
       "      <th>arrival_time</th>\n",
       "      <th>departure_time</th>\n",
       "      <th>stop_id</th>\n",
       "      <th>stop_sequence</th>\n",
       "      <th>stop_headsign</th>\n",
       "      <th>pickup_type</th>\n",
       "      <th>drop_off_type</th>\n",
       "      <th>shape_dist_traveled</th>\n",
       "      <th>stop_name</th>\n",
       "      <th>...</th>\n",
       "      <th>shape_id</th>\n",
       "      <th>trip_headsign</th>\n",
       "      <th>direction_id</th>\n",
       "      <th>block_id</th>\n",
       "      <th>agency_id</th>\n",
       "      <th>route_short_name</th>\n",
       "      <th>route_long_name</th>\n",
       "      <th>route_type</th>\n",
       "      <th>route_color</th>\n",
       "      <th>route_text_color</th>\n",
       "    </tr>\n",
       "  </thead>\n",
       "  <tbody>\n",
       "    <tr>\n",
       "      <th>0</th>\n",
       "      <td>86.T2.10-1-j21-1.10.R</td>\n",
       "      <td>14:35:00</td>\n",
       "      <td>14:35:00</td>\n",
       "      <td>de:08111:6052:1:2</td>\n",
       "      <td>1</td>\n",
       "      <td>NaN</td>\n",
       "      <td>0</td>\n",
       "      <td>0</td>\n",
       "      <td>0.00</td>\n",
       "      <td>Schwabstraße</td>\n",
       "      <td>...</td>\n",
       "      <td>10-1-j21-1.10.R</td>\n",
       "      <td>Plochingen</td>\n",
       "      <td>1</td>\n",
       "      <td>NaN</td>\n",
       "      <td>NaN</td>\n",
       "      <td>S1</td>\n",
       "      <td>Kirchheim (T) - Plochingen - Stuttgart - Herre...</td>\n",
       "      <td>109</td>\n",
       "      <td>83b23b</td>\n",
       "      <td>FFFFFF</td>\n",
       "    </tr>\n",
       "    <tr>\n",
       "      <th>1</th>\n",
       "      <td>86.T2.10-1-j21-1.10.R</td>\n",
       "      <td>14:36:00</td>\n",
       "      <td>14:37:00</td>\n",
       "      <td>de:08111:6221:1:2</td>\n",
       "      <td>2</td>\n",
       "      <td>NaN</td>\n",
       "      <td>0</td>\n",
       "      <td>0</td>\n",
       "      <td>738.21</td>\n",
       "      <td>Feuersee</td>\n",
       "      <td>...</td>\n",
       "      <td>10-1-j21-1.10.R</td>\n",
       "      <td>Plochingen</td>\n",
       "      <td>1</td>\n",
       "      <td>NaN</td>\n",
       "      <td>NaN</td>\n",
       "      <td>S1</td>\n",
       "      <td>Kirchheim (T) - Plochingen - Stuttgart - Herre...</td>\n",
       "      <td>109</td>\n",
       "      <td>83b23b</td>\n",
       "      <td>FFFFFF</td>\n",
       "    </tr>\n",
       "    <tr>\n",
       "      <th>2</th>\n",
       "      <td>86.T2.10-1-j21-1.10.R</td>\n",
       "      <td>14:38:00</td>\n",
       "      <td>14:38:00</td>\n",
       "      <td>de:08111:6056:1:2</td>\n",
       "      <td>3</td>\n",
       "      <td>NaN</td>\n",
       "      <td>0</td>\n",
       "      <td>0</td>\n",
       "      <td>1425.96</td>\n",
       "      <td>Stadtmitte</td>\n",
       "      <td>...</td>\n",
       "      <td>10-1-j21-1.10.R</td>\n",
       "      <td>Plochingen</td>\n",
       "      <td>1</td>\n",
       "      <td>NaN</td>\n",
       "      <td>NaN</td>\n",
       "      <td>S1</td>\n",
       "      <td>Kirchheim (T) - Plochingen - Stuttgart - Herre...</td>\n",
       "      <td>109</td>\n",
       "      <td>83b23b</td>\n",
       "      <td>FFFFFF</td>\n",
       "    </tr>\n",
       "  </tbody>\n",
       "</table>\n",
       "<p>3 rows × 24 columns</p>\n",
       "</div>"
      ],
      "text/plain": [
       "                 trip_id arrival_time departure_time            stop_id  \\\n",
       "0  86.T2.10-1-j21-1.10.R     14:35:00       14:35:00  de:08111:6052:1:2   \n",
       "1  86.T2.10-1-j21-1.10.R     14:36:00       14:37:00  de:08111:6221:1:2   \n",
       "2  86.T2.10-1-j21-1.10.R     14:38:00       14:38:00  de:08111:6056:1:2   \n",
       "\n",
       "   stop_sequence stop_headsign  pickup_type  drop_off_type  \\\n",
       "0              1           NaN            0              0   \n",
       "1              2           NaN            0              0   \n",
       "2              3           NaN            0              0   \n",
       "\n",
       "   shape_dist_traveled     stop_name  ...         shape_id  trip_headsign  \\\n",
       "0                 0.00  Schwabstraße  ...  10-1-j21-1.10.R     Plochingen   \n",
       "1               738.21      Feuersee  ...  10-1-j21-1.10.R     Plochingen   \n",
       "2              1425.96    Stadtmitte  ...  10-1-j21-1.10.R     Plochingen   \n",
       "\n",
       "  direction_id block_id agency_id route_short_name  \\\n",
       "0            1      NaN       NaN               S1   \n",
       "1            1      NaN       NaN               S1   \n",
       "2            1      NaN       NaN               S1   \n",
       "\n",
       "                                     route_long_name  route_type  route_color  \\\n",
       "0  Kirchheim (T) - Plochingen - Stuttgart - Herre...         109       83b23b   \n",
       "1  Kirchheim (T) - Plochingen - Stuttgart - Herre...         109       83b23b   \n",
       "2  Kirchheim (T) - Plochingen - Stuttgart - Herre...         109       83b23b   \n",
       "\n",
       "  route_text_color  \n",
       "0           FFFFFF  \n",
       "1           FFFFFF  \n",
       "2           FFFFFF  \n",
       "\n",
       "[3 rows x 24 columns]"
      ]
     },
     "execution_count": 7,
     "metadata": {},
     "output_type": "execute_result"
    }
   ],
   "source": [
    "df = df_stop_times.merge(df_stops, on='stop_id', how='left')\n",
    "df = df.merge(df_trips, on='trip_id', how='left')\n",
    "df = df.merge(df_routes, on='route_id', how='left')\n",
    "df.head(3)"
   ]
  },
  {
   "cell_type": "markdown",
   "metadata": {},
   "source": [
    "### Make some data column modifications"
   ]
  },
  {
   "cell_type": "code",
   "execution_count": 8,
   "metadata": {},
   "outputs": [],
   "source": [
    "def convert_time(time_string):\n",
    "    time = time_string.split(\":\")\n",
    "    time = list(map(int, time))\n",
    "    return time[0]*3600+time[1]*60+time[2]"
   ]
  },
  {
   "cell_type": "code",
   "execution_count": 9,
   "metadata": {},
   "outputs": [],
   "source": [
    "df['arrival_time'] = df['arrival_time'].apply(convert_time)\n",
    "df['departure_time'] = df['departure_time'].apply(convert_time)"
   ]
  },
  {
   "cell_type": "markdown",
   "metadata": {},
   "source": [
    "# -- CALCULATE TRAVEL TIMES --"
   ]
  },
  {
   "cell_type": "markdown",
   "metadata": {},
   "source": [
    "### Filter Stadtbahn and focus on relevant columns"
   ]
  },
  {
   "cell_type": "code",
   "execution_count": 10,
   "metadata": {},
   "outputs": [],
   "source": [
    "df_stb = df[df['route_type']==402]"
   ]
  },
  {
   "cell_type": "code",
   "execution_count": 11,
   "metadata": {},
   "outputs": [],
   "source": [
    "columns_2_keep = ['trip_id',\n",
    "                  'stop_id',\n",
    "                  'stop_name',\n",
    "                  'stop_sequence',\n",
    "                  'route_short_name',\n",
    "                  'direction_id',\n",
    "                  'shape_dist_traveled',\n",
    "                  'arrival_time',\n",
    "                  'departure_time']"
   ]
  },
  {
   "cell_type": "code",
   "execution_count": 12,
   "metadata": {},
   "outputs": [],
   "source": [
    "df_stb = df_stb[columns_2_keep]"
   ]
  },
  {
   "cell_type": "code",
   "execution_count": 13,
   "metadata": {},
   "outputs": [
    {
     "data": {
      "text/html": [
       "<div>\n",
       "<style scoped>\n",
       "    .dataframe tbody tr th:only-of-type {\n",
       "        vertical-align: middle;\n",
       "    }\n",
       "\n",
       "    .dataframe tbody tr th {\n",
       "        vertical-align: top;\n",
       "    }\n",
       "\n",
       "    .dataframe thead th {\n",
       "        text-align: right;\n",
       "    }\n",
       "</style>\n",
       "<table border=\"1\" class=\"dataframe\">\n",
       "  <thead>\n",
       "    <tr style=\"text-align: right;\">\n",
       "      <th></th>\n",
       "      <th>trip_id</th>\n",
       "      <th>stop_id</th>\n",
       "      <th>stop_name</th>\n",
       "      <th>stop_sequence</th>\n",
       "      <th>route_short_name</th>\n",
       "      <th>direction_id</th>\n",
       "      <th>shape_dist_traveled</th>\n",
       "      <th>arrival_time</th>\n",
       "      <th>departure_time</th>\n",
       "    </tr>\n",
       "  </thead>\n",
       "  <tbody>\n",
       "    <tr>\n",
       "      <th>373540</th>\n",
       "      <td>1.T0.20-15-j21-4.2.H</td>\n",
       "      <td>de:08111:100:1:1</td>\n",
       "      <td>Stammheim</td>\n",
       "      <td>1</td>\n",
       "      <td>U15</td>\n",
       "      <td>0</td>\n",
       "      <td>0.00</td>\n",
       "      <td>17220</td>\n",
       "      <td>17220</td>\n",
       "    </tr>\n",
       "    <tr>\n",
       "      <th>373541</th>\n",
       "      <td>1.T0.20-15-j21-4.2.H</td>\n",
       "      <td>de:08111:102:1:1</td>\n",
       "      <td>Korntaler Straße</td>\n",
       "      <td>2</td>\n",
       "      <td>U15</td>\n",
       "      <td>0</td>\n",
       "      <td>389.22</td>\n",
       "      <td>17280</td>\n",
       "      <td>17280</td>\n",
       "    </tr>\n",
       "    <tr>\n",
       "      <th>373542</th>\n",
       "      <td>1.T0.20-15-j21-4.2.H</td>\n",
       "      <td>de:08111:103:0:1</td>\n",
       "      <td>Heutingsheimer Straße</td>\n",
       "      <td>3</td>\n",
       "      <td>U15</td>\n",
       "      <td>0</td>\n",
       "      <td>893.23</td>\n",
       "      <td>17340</td>\n",
       "      <td>17340</td>\n",
       "    </tr>\n",
       "  </tbody>\n",
       "</table>\n",
       "</div>"
      ],
      "text/plain": [
       "                     trip_id           stop_id              stop_name  \\\n",
       "373540  1.T0.20-15-j21-4.2.H  de:08111:100:1:1              Stammheim   \n",
       "373541  1.T0.20-15-j21-4.2.H  de:08111:102:1:1       Korntaler Straße   \n",
       "373542  1.T0.20-15-j21-4.2.H  de:08111:103:0:1  Heutingsheimer Straße   \n",
       "\n",
       "        stop_sequence route_short_name  direction_id  shape_dist_traveled  \\\n",
       "373540              1              U15             0                 0.00   \n",
       "373541              2              U15             0               389.22   \n",
       "373542              3              U15             0               893.23   \n",
       "\n",
       "        arrival_time  departure_time  \n",
       "373540         17220           17220  \n",
       "373541         17280           17280  \n",
       "373542         17340           17340  "
      ]
     },
     "execution_count": 13,
     "metadata": {},
     "output_type": "execute_result"
    }
   ],
   "source": [
    "df_stb.sort_values(by=['trip_id', 'stop_sequence'],inplace=True)\n",
    "df_stb.head(3)"
   ]
  },
  {
   "cell_type": "markdown",
   "metadata": {},
   "source": [
    "### Convert table with list of stop to table with list of trips between stops"
   ]
  },
  {
   "cell_type": "code",
   "execution_count": 14,
   "metadata": {},
   "outputs": [],
   "source": [
    "df_tt = df_stb.copy()"
   ]
  },
  {
   "cell_type": "code",
   "execution_count": 15,
   "metadata": {},
   "outputs": [
    {
     "data": {
      "text/html": [
       "<div>\n",
       "<style scoped>\n",
       "    .dataframe tbody tr th:only-of-type {\n",
       "        vertical-align: middle;\n",
       "    }\n",
       "\n",
       "    .dataframe tbody tr th {\n",
       "        vertical-align: top;\n",
       "    }\n",
       "\n",
       "    .dataframe thead th {\n",
       "        text-align: right;\n",
       "    }\n",
       "</style>\n",
       "<table border=\"1\" class=\"dataframe\">\n",
       "  <thead>\n",
       "    <tr style=\"text-align: right;\">\n",
       "      <th></th>\n",
       "      <th>trip_id</th>\n",
       "      <th>route_short_name</th>\n",
       "      <th>start_id</th>\n",
       "      <th>start_name</th>\n",
       "      <th>end_id</th>\n",
       "      <th>end_name</th>\n",
       "      <th>dist</th>\n",
       "      <th>start_dep_time</th>\n",
       "      <th>end_arr_time</th>\n",
       "    </tr>\n",
       "  </thead>\n",
       "  <tbody>\n",
       "    <tr>\n",
       "      <th>373541</th>\n",
       "      <td>1.T0.20-15-j21-4.2.H</td>\n",
       "      <td>U15</td>\n",
       "      <td>de:08111:100:1:1</td>\n",
       "      <td>Stammheim</td>\n",
       "      <td>de:08111:102:1:1</td>\n",
       "      <td>Korntaler Straße</td>\n",
       "      <td>389.22</td>\n",
       "      <td>17220.0</td>\n",
       "      <td>17280</td>\n",
       "    </tr>\n",
       "    <tr>\n",
       "      <th>373542</th>\n",
       "      <td>1.T0.20-15-j21-4.2.H</td>\n",
       "      <td>U15</td>\n",
       "      <td>de:08111:102:1:1</td>\n",
       "      <td>Korntaler Straße</td>\n",
       "      <td>de:08111:103:0:1</td>\n",
       "      <td>Heutingsheimer Straße</td>\n",
       "      <td>504.01</td>\n",
       "      <td>17280.0</td>\n",
       "      <td>17340</td>\n",
       "    </tr>\n",
       "    <tr>\n",
       "      <th>373543</th>\n",
       "      <td>1.T0.20-15-j21-4.2.H</td>\n",
       "      <td>U15</td>\n",
       "      <td>de:08111:103:0:1</td>\n",
       "      <td>Heutingsheimer Straße</td>\n",
       "      <td>de:08111:104:0:1</td>\n",
       "      <td>Wimpfener Straße</td>\n",
       "      <td>503.58</td>\n",
       "      <td>17340.0</td>\n",
       "      <td>17400</td>\n",
       "    </tr>\n",
       "  </tbody>\n",
       "</table>\n",
       "</div>"
      ],
      "text/plain": [
       "                     trip_id route_short_name          start_id  \\\n",
       "373541  1.T0.20-15-j21-4.2.H              U15  de:08111:100:1:1   \n",
       "373542  1.T0.20-15-j21-4.2.H              U15  de:08111:102:1:1   \n",
       "373543  1.T0.20-15-j21-4.2.H              U15  de:08111:103:0:1   \n",
       "\n",
       "                   start_name            end_id               end_name  \\\n",
       "373541              Stammheim  de:08111:102:1:1       Korntaler Straße   \n",
       "373542       Korntaler Straße  de:08111:103:0:1  Heutingsheimer Straße   \n",
       "373543  Heutingsheimer Straße  de:08111:104:0:1       Wimpfener Straße   \n",
       "\n",
       "          dist  start_dep_time  end_arr_time  \n",
       "373541  389.22         17220.0         17280  \n",
       "373542  504.01         17280.0         17340  \n",
       "373543  503.58         17340.0         17400  "
      ]
     },
     "execution_count": 15,
     "metadata": {},
     "output_type": "execute_result"
    }
   ],
   "source": [
    "df_tt['start_id'] = df_tt.groupby(['trip_id'])['stop_id'].shift(1)\n",
    "df_tt['start_name'] = df_tt.groupby(['trip_id'])['stop_name'].shift(1)\n",
    "df_tt['start_dep_time'] = df_tt.groupby(['trip_id'])['departure_time'].shift(1)\n",
    "df_tt['dist'] = df_tt['shape_dist_traveled'].diff()\n",
    "\n",
    "df_tt.rename(columns={'stop_id':'end_id', 'stop_name':'end_name', 'arrival_time':'end_arr_time'}, inplace=True)\n",
    "\n",
    "df_tt = df_tt[df_tt['start_id'].notna()]\n",
    "\n",
    "new_order = ['trip_id', 'route_short_name', 'start_id', 'start_name', 'end_id', 'end_name', 'dist', 'start_dep_time', 'end_arr_time']\n",
    "df_tt = df_tt[new_order]\n",
    "\n",
    "df_tt.head(3)"
   ]
  },
  {
   "cell_type": "markdown",
   "metadata": {},
   "source": [
    " ### Calculate time of travel and speed"
   ]
  },
  {
   "cell_type": "code",
   "execution_count": 16,
   "metadata": {},
   "outputs": [
    {
     "data": {
      "text/html": [
       "<div>\n",
       "<style scoped>\n",
       "    .dataframe tbody tr th:only-of-type {\n",
       "        vertical-align: middle;\n",
       "    }\n",
       "\n",
       "    .dataframe tbody tr th {\n",
       "        vertical-align: top;\n",
       "    }\n",
       "\n",
       "    .dataframe thead th {\n",
       "        text-align: right;\n",
       "    }\n",
       "</style>\n",
       "<table border=\"1\" class=\"dataframe\">\n",
       "  <thead>\n",
       "    <tr style=\"text-align: right;\">\n",
       "      <th></th>\n",
       "      <th>trip_id</th>\n",
       "      <th>route_short_name</th>\n",
       "      <th>start_id</th>\n",
       "      <th>start_name</th>\n",
       "      <th>end_id</th>\n",
       "      <th>end_name</th>\n",
       "      <th>dist</th>\n",
       "      <th>start_dep_time</th>\n",
       "      <th>end_arr_time</th>\n",
       "      <th>time_of_travel</th>\n",
       "      <th>time_of_travel_2</th>\n",
       "      <th>speed_m_per_s</th>\n",
       "      <th>speed_km_per_h</th>\n",
       "    </tr>\n",
       "  </thead>\n",
       "  <tbody>\n",
       "    <tr>\n",
       "      <th>373541</th>\n",
       "      <td>1.T0.20-15-j21-4.2.H</td>\n",
       "      <td>U15</td>\n",
       "      <td>de:08111:100:1:1</td>\n",
       "      <td>Stammheim</td>\n",
       "      <td>de:08111:102:1:1</td>\n",
       "      <td>Korntaler Straße</td>\n",
       "      <td>389.22</td>\n",
       "      <td>17220.0</td>\n",
       "      <td>17280</td>\n",
       "      <td>60.0</td>\n",
       "      <td>60.0</td>\n",
       "      <td>6.487000</td>\n",
       "      <td>23.3532</td>\n",
       "    </tr>\n",
       "    <tr>\n",
       "      <th>373542</th>\n",
       "      <td>1.T0.20-15-j21-4.2.H</td>\n",
       "      <td>U15</td>\n",
       "      <td>de:08111:102:1:1</td>\n",
       "      <td>Korntaler Straße</td>\n",
       "      <td>de:08111:103:0:1</td>\n",
       "      <td>Heutingsheimer Straße</td>\n",
       "      <td>504.01</td>\n",
       "      <td>17280.0</td>\n",
       "      <td>17340</td>\n",
       "      <td>60.0</td>\n",
       "      <td>60.0</td>\n",
       "      <td>8.400167</td>\n",
       "      <td>30.2406</td>\n",
       "    </tr>\n",
       "    <tr>\n",
       "      <th>373543</th>\n",
       "      <td>1.T0.20-15-j21-4.2.H</td>\n",
       "      <td>U15</td>\n",
       "      <td>de:08111:103:0:1</td>\n",
       "      <td>Heutingsheimer Straße</td>\n",
       "      <td>de:08111:104:0:1</td>\n",
       "      <td>Wimpfener Straße</td>\n",
       "      <td>503.58</td>\n",
       "      <td>17340.0</td>\n",
       "      <td>17400</td>\n",
       "      <td>60.0</td>\n",
       "      <td>60.0</td>\n",
       "      <td>8.393000</td>\n",
       "      <td>30.2148</td>\n",
       "    </tr>\n",
       "  </tbody>\n",
       "</table>\n",
       "</div>"
      ],
      "text/plain": [
       "                     trip_id route_short_name          start_id  \\\n",
       "373541  1.T0.20-15-j21-4.2.H              U15  de:08111:100:1:1   \n",
       "373542  1.T0.20-15-j21-4.2.H              U15  de:08111:102:1:1   \n",
       "373543  1.T0.20-15-j21-4.2.H              U15  de:08111:103:0:1   \n",
       "\n",
       "                   start_name            end_id               end_name  \\\n",
       "373541              Stammheim  de:08111:102:1:1       Korntaler Straße   \n",
       "373542       Korntaler Straße  de:08111:103:0:1  Heutingsheimer Straße   \n",
       "373543  Heutingsheimer Straße  de:08111:104:0:1       Wimpfener Straße   \n",
       "\n",
       "          dist  start_dep_time  end_arr_time  time_of_travel  \\\n",
       "373541  389.22         17220.0         17280            60.0   \n",
       "373542  504.01         17280.0         17340            60.0   \n",
       "373543  503.58         17340.0         17400            60.0   \n",
       "\n",
       "        time_of_travel_2  speed_m_per_s  speed_km_per_h  \n",
       "373541              60.0       6.487000         23.3532  \n",
       "373542              60.0       8.400167         30.2406  \n",
       "373543              60.0       8.393000         30.2148  "
      ]
     },
     "execution_count": 16,
     "metadata": {},
     "output_type": "execute_result"
    }
   ],
   "source": [
    "df_tt['time_of_travel'] = df_tt['end_arr_time'] - df_tt['start_dep_time']\n",
    "df_tt['time_of_travel_2'] = df_tt['time_of_travel'].apply(lambda x: x if x > 0 else 30.)\n",
    "df_tt['speed_m_per_s'] = df_tt['dist'] / df_tt['time_of_travel_2']\n",
    "df_tt['speed_km_per_h'] = df_tt['speed_m_per_s'] * 3.6\n",
    "df_tt.head(3)"
   ]
  },
  {
   "cell_type": "markdown",
   "metadata": {},
   "source": [
    "# -- EVALUATE RESULTS --"
   ]
  },
  {
   "cell_type": "markdown",
   "metadata": {},
   "source": [
    " ### Per Line"
   ]
  },
  {
   "cell_type": "code",
   "execution_count": 17,
   "metadata": {},
   "outputs": [],
   "source": [
    "df_tt_per_line = df_tt.groupby(['route_short_name']).agg({'dist':[np.mean, np.sum], 'time_of_travel':np.sum}).reset_index()\n",
    "df_tt_per_line.columns = ['_'.join(col).strip() for col in df_tt_per_line.columns.values]\n",
    "df_tt_per_line.rename(columns={'route_short_name_':'route_short_name'}, inplace=True)"
   ]
  },
  {
   "cell_type": "code",
   "execution_count": 18,
   "metadata": {},
   "outputs": [
    {
     "data": {
      "text/html": [
       "<div>\n",
       "<style scoped>\n",
       "    .dataframe tbody tr th:only-of-type {\n",
       "        vertical-align: middle;\n",
       "    }\n",
       "\n",
       "    .dataframe tbody tr th {\n",
       "        vertical-align: top;\n",
       "    }\n",
       "\n",
       "    .dataframe thead th {\n",
       "        text-align: right;\n",
       "    }\n",
       "</style>\n",
       "<table border=\"1\" class=\"dataframe\">\n",
       "  <thead>\n",
       "    <tr style=\"text-align: right;\">\n",
       "      <th></th>\n",
       "      <th>route_short_name</th>\n",
       "      <th>dist_mean</th>\n",
       "      <th>dist_sum</th>\n",
       "      <th>time_of_travel_sum</th>\n",
       "      <th>speed_m_per_s</th>\n",
       "      <th>speed_km_per_h</th>\n",
       "    </tr>\n",
       "  </thead>\n",
       "  <tbody>\n",
       "    <tr>\n",
       "      <th>0</th>\n",
       "      <td>U1</td>\n",
       "      <td>575.405208</td>\n",
       "      <td>1.084869e+07</td>\n",
       "      <td>1195860.0</td>\n",
       "      <td>9.071873</td>\n",
       "      <td>32.658742</td>\n",
       "    </tr>\n",
       "    <tr>\n",
       "      <th>1</th>\n",
       "      <td>U12</td>\n",
       "      <td>694.386510</td>\n",
       "      <td>1.459531e+07</td>\n",
       "      <td>1600140.0</td>\n",
       "      <td>9.121271</td>\n",
       "      <td>32.836574</td>\n",
       "    </tr>\n",
       "    <tr>\n",
       "      <th>2</th>\n",
       "      <td>U13</td>\n",
       "      <td>612.862384</td>\n",
       "      <td>8.114911e+06</td>\n",
       "      <td>918960.0</td>\n",
       "      <td>8.830538</td>\n",
       "      <td>31.789935</td>\n",
       "    </tr>\n",
       "    <tr>\n",
       "      <th>3</th>\n",
       "      <td>U14</td>\n",
       "      <td>541.213199</td>\n",
       "      <td>7.752338e+06</td>\n",
       "      <td>828840.0</td>\n",
       "      <td>9.353238</td>\n",
       "      <td>33.671657</td>\n",
       "    </tr>\n",
       "    <tr>\n",
       "      <th>4</th>\n",
       "      <td>U15</td>\n",
       "      <td>563.023339</td>\n",
       "      <td>2.121528e+07</td>\n",
       "      <td>2560920.0</td>\n",
       "      <td>8.284243</td>\n",
       "      <td>29.823273</td>\n",
       "    </tr>\n",
       "    <tr>\n",
       "      <th>5</th>\n",
       "      <td>U16</td>\n",
       "      <td>584.535529</td>\n",
       "      <td>2.048797e+06</td>\n",
       "      <td>219240.0</td>\n",
       "      <td>9.344996</td>\n",
       "      <td>33.641987</td>\n",
       "    </tr>\n",
       "    <tr>\n",
       "      <th>6</th>\n",
       "      <td>U19</td>\n",
       "      <td>650.828564</td>\n",
       "      <td>2.465339e+06</td>\n",
       "      <td>276720.0</td>\n",
       "      <td>8.909145</td>\n",
       "      <td>32.072922</td>\n",
       "    </tr>\n",
       "    <tr>\n",
       "      <th>7</th>\n",
       "      <td>U2</td>\n",
       "      <td>523.646350</td>\n",
       "      <td>8.677867e+06</td>\n",
       "      <td>971460.0</td>\n",
       "      <td>8.932810</td>\n",
       "      <td>32.158115</td>\n",
       "    </tr>\n",
       "    <tr>\n",
       "      <th>8</th>\n",
       "      <td>U29</td>\n",
       "      <td>498.472713</td>\n",
       "      <td>4.692622e+06</td>\n",
       "      <td>546780.0</td>\n",
       "      <td>8.582286</td>\n",
       "      <td>30.896228</td>\n",
       "    </tr>\n",
       "    <tr>\n",
       "      <th>9</th>\n",
       "      <td>U3</td>\n",
       "      <td>783.285725</td>\n",
       "      <td>4.750628e+06</td>\n",
       "      <td>462000.0</td>\n",
       "      <td>10.282744</td>\n",
       "      <td>37.017880</td>\n",
       "    </tr>\n",
       "    <tr>\n",
       "      <th>10</th>\n",
       "      <td>U34</td>\n",
       "      <td>589.542861</td>\n",
       "      <td>3.354499e+06</td>\n",
       "      <td>413820.0</td>\n",
       "      <td>8.106179</td>\n",
       "      <td>29.182243</td>\n",
       "    </tr>\n",
       "    <tr>\n",
       "      <th>11</th>\n",
       "      <td>U4</td>\n",
       "      <td>451.763059</td>\n",
       "      <td>5.698991e+06</td>\n",
       "      <td>727260.0</td>\n",
       "      <td>7.836250</td>\n",
       "      <td>28.210499</td>\n",
       "    </tr>\n",
       "    <tr>\n",
       "      <th>12</th>\n",
       "      <td>U5</td>\n",
       "      <td>716.568786</td>\n",
       "      <td>4.993051e+06</td>\n",
       "      <td>504420.0</td>\n",
       "      <td>9.898599</td>\n",
       "      <td>35.634956</td>\n",
       "    </tr>\n",
       "    <tr>\n",
       "      <th>13</th>\n",
       "      <td>U6</td>\n",
       "      <td>671.465445</td>\n",
       "      <td>1.638241e+07</td>\n",
       "      <td>1655100.0</td>\n",
       "      <td>9.898141</td>\n",
       "      <td>35.633309</td>\n",
       "    </tr>\n",
       "    <tr>\n",
       "      <th>14</th>\n",
       "      <td>U7</td>\n",
       "      <td>693.368191</td>\n",
       "      <td>2.937385e+07</td>\n",
       "      <td>3139800.0</td>\n",
       "      <td>9.355325</td>\n",
       "      <td>33.679171</td>\n",
       "    </tr>\n",
       "    <tr>\n",
       "      <th>15</th>\n",
       "      <td>U8</td>\n",
       "      <td>725.107541</td>\n",
       "      <td>7.379419e+06</td>\n",
       "      <td>760680.0</td>\n",
       "      <td>9.701083</td>\n",
       "      <td>34.923897</td>\n",
       "    </tr>\n",
       "    <tr>\n",
       "      <th>16</th>\n",
       "      <td>U9</td>\n",
       "      <td>556.263787</td>\n",
       "      <td>7.364933e+06</td>\n",
       "      <td>877620.0</td>\n",
       "      <td>8.391938</td>\n",
       "      <td>30.210976</td>\n",
       "    </tr>\n",
       "  </tbody>\n",
       "</table>\n",
       "</div>"
      ],
      "text/plain": [
       "   route_short_name   dist_mean      dist_sum  time_of_travel_sum  \\\n",
       "0                U1  575.405208  1.084869e+07           1195860.0   \n",
       "1               U12  694.386510  1.459531e+07           1600140.0   \n",
       "2               U13  612.862384  8.114911e+06            918960.0   \n",
       "3               U14  541.213199  7.752338e+06            828840.0   \n",
       "4               U15  563.023339  2.121528e+07           2560920.0   \n",
       "5               U16  584.535529  2.048797e+06            219240.0   \n",
       "6               U19  650.828564  2.465339e+06            276720.0   \n",
       "7                U2  523.646350  8.677867e+06            971460.0   \n",
       "8               U29  498.472713  4.692622e+06            546780.0   \n",
       "9                U3  783.285725  4.750628e+06            462000.0   \n",
       "10              U34  589.542861  3.354499e+06            413820.0   \n",
       "11               U4  451.763059  5.698991e+06            727260.0   \n",
       "12               U5  716.568786  4.993051e+06            504420.0   \n",
       "13               U6  671.465445  1.638241e+07           1655100.0   \n",
       "14               U7  693.368191  2.937385e+07           3139800.0   \n",
       "15               U8  725.107541  7.379419e+06            760680.0   \n",
       "16               U9  556.263787  7.364933e+06            877620.0   \n",
       "\n",
       "    speed_m_per_s  speed_km_per_h  \n",
       "0        9.071873       32.658742  \n",
       "1        9.121271       32.836574  \n",
       "2        8.830538       31.789935  \n",
       "3        9.353238       33.671657  \n",
       "4        8.284243       29.823273  \n",
       "5        9.344996       33.641987  \n",
       "6        8.909145       32.072922  \n",
       "7        8.932810       32.158115  \n",
       "8        8.582286       30.896228  \n",
       "9       10.282744       37.017880  \n",
       "10       8.106179       29.182243  \n",
       "11       7.836250       28.210499  \n",
       "12       9.898599       35.634956  \n",
       "13       9.898141       35.633309  \n",
       "14       9.355325       33.679171  \n",
       "15       9.701083       34.923897  \n",
       "16       8.391938       30.210976  "
      ]
     },
     "execution_count": 18,
     "metadata": {},
     "output_type": "execute_result"
    }
   ],
   "source": [
    "df_tt_per_line['speed_m_per_s'] = df_tt_per_line['dist_sum'] / df_tt_per_line['time_of_travel_sum']\n",
    "df_tt_per_line['speed_km_per_h'] = df_tt_per_line['speed_m_per_s'] * 3.6\n",
    "df_tt_per_line"
   ]
  },
  {
   "cell_type": "code",
   "execution_count": 19,
   "metadata": {},
   "outputs": [
    {
     "data": {
      "image/png": "[encoded data removed]",
      "text/plain": [
       "<Figure size 432x288 with 1 Axes>"
      ]
     },
     "metadata": {
      "needs_background": "light"
     },
     "output_type": "display_data"
    }
   ],
   "source": [
    "ax = df_tt_per_line.plot.scatter(x='dist_mean',\n",
    "                                 y='speed_km_per_h',\n",
    "                                 c='DarkBlue')"
   ]
  },
  {
   "cell_type": "markdown",
   "metadata": {},
   "source": [
    " ### In Total"
   ]
  },
  {
   "cell_type": "code",
   "execution_count": 20,
   "metadata": {},
   "outputs": [
    {
     "data": {
      "text/plain": [
       "32.55744959178156"
      ]
     },
     "execution_count": 20,
     "metadata": {},
     "output_type": "execute_result"
    }
   ],
   "source": [
    "(df_tt_per_line['dist_sum'].sum()/df_tt_per_line['time_of_travel_sum'].sum())*3.6"
   ]
  },
  {
   "cell_type": "markdown",
   "metadata": {},
   "source": [
    " ### Clustered by distance between stations"
   ]
  },
  {
   "cell_type": "code",
   "execution_count": 21,
   "metadata": {},
   "outputs": [
    {
     "data": {
      "text/plain": [
       "180.18000000000006"
      ]
     },
     "execution_count": 21,
     "metadata": {},
     "output_type": "execute_result"
    }
   ],
   "source": [
    "df_tt['dist'].min()"
   ]
  },
  {
   "cell_type": "code",
   "execution_count": 22,
   "metadata": {},
   "outputs": [
    {
     "data": {
      "text/plain": [
       "3035.9299999999994"
      ]
     },
     "execution_count": 22,
     "metadata": {},
     "output_type": "execute_result"
    }
   ],
   "source": [
    "df_tt['dist'].max()"
   ]
  },
  {
   "cell_type": "code",
   "execution_count": 23,
   "metadata": {},
   "outputs": [
    {
     "data": {
      "image/png": "[encoded data removed]",
      "text/plain": [
       "<Figure size 432x288 with 1 Axes>"
      ]
     },
     "metadata": {
      "needs_background": "light"
     },
     "output_type": "display_data"
    }
   ],
   "source": [
    "ax = df_tt.plot.scatter(x='dist',\n",
    "                        y='speed_km_per_h',\n",
    "                        c='DarkBlue')"
   ]
  },
  {
   "cell_type": "markdown",
   "metadata": {},
   "source": [
    " ### Clustered by trip departure"
   ]
  }
 ],
 "metadata": {
  "kernelspec": {
   "display_name": "Python 3",
   "language": "python",
   "name": "python3"
  },
  "language_info": {
   "codemirror_mode": {
    "name": "ipython",
    "version": 3
   },
   "file_extension": ".py",
   "mimetype": "text/x-python",
   "name": "python",
   "nbconvert_exporter": "python",
   "pygments_lexer": "ipython3",
   "version": "3.7.9"
  }
 },
 "nbformat": 4,
 "nbformat_minor": 4
}
