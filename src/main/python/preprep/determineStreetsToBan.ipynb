{
 "cells": [
  {
   "cell_type": "code",
   "execution_count": 1,
   "metadata": {},
   "outputs": [],
   "source": [
    "import matsim\n",
    "import pandas as pd\n",
    "import geopandas as gpd\n",
    "import matplotlib.pyplot as plt\n",
    "import numpy as np"
   ]
  },
  {
   "cell_type": "markdown",
   "metadata": {},
   "source": [
    "### Export Network to shape File"
   ]
  },
  {
   "cell_type": "code",
   "execution_count": 2,
   "metadata": {},
   "outputs": [],
   "source": [
    "networkPath = \"C:/Users/david/OneDrive/02_Uni/02_Master/05_Masterarbeit/03_MATSim/02_runs/stuttgart-v1.0/04_stuttgart-v1.0_calibration/input/optimizedNetwork.xml.gz\"\n",
    "outputShape = \"C:/Users/david/OneDrive/02_Uni/02_Master/05_Masterarbeit/03_MATSim/01_prep/07_Measures/01_street_closure/network.shp\""
   ]
  },
  {
   "cell_type": "code",
   "execution_count": 3,
   "metadata": {},
   "outputs": [],
   "source": [
    "net = matsim.read_network(networkPath)"
   ]
  },
  {
   "cell_type": "code",
   "execution_count": 4,
   "metadata": {},
   "outputs": [],
   "source": [
    "gdf_geo = net.as_geo()"
   ]
  },
  {
   "cell_type": "code",
   "execution_count": 5,
   "metadata": {},
   "outputs": [],
   "source": [
    "gdf_geo = gdf_geo[~gdf_geo[\"link_id\"].str.startswith(\"tr\")]"
   ]
  },
  {
   "cell_type": "code",
   "execution_count": 6,
   "metadata": {},
   "outputs": [
    {
     "data": {
      "text/html": [
       "<div>\n",
       "<style scoped>\n",
       "    .dataframe tbody tr th:only-of-type {\n",
       "        vertical-align: middle;\n",
       "    }\n",
       "\n",
       "    .dataframe tbody tr th {\n",
       "        vertical-align: top;\n",
       "    }\n",
       "\n",
       "    .dataframe thead th {\n",
       "        text-align: right;\n",
       "    }\n",
       "</style>\n",
       "<table border=\"1\" class=\"dataframe\">\n",
       "  <thead>\n",
       "    <tr style=\"text-align: right;\">\n",
       "      <th></th>\n",
       "      <th>length</th>\n",
       "      <th>freespeed</th>\n",
       "      <th>capacity</th>\n",
       "      <th>permlanes</th>\n",
       "      <th>oneway</th>\n",
       "      <th>modes</th>\n",
       "      <th>link_id</th>\n",
       "      <th>from_node</th>\n",
       "      <th>to_node</th>\n",
       "      <th>geometry</th>\n",
       "    </tr>\n",
       "  </thead>\n",
       "  <tbody>\n",
       "    <tr>\n",
       "      <th>0</th>\n",
       "      <td>50.53</td>\n",
       "      <td>9.47</td>\n",
       "      <td>1200.0</td>\n",
       "      <td>2.0</td>\n",
       "      <td>1</td>\n",
       "      <td>car,ride</td>\n",
       "      <td>10000014</td>\n",
       "      <td>1944304351</td>\n",
       "      <td>1856452849</td>\n",
       "      <td>LINESTRING (477508.123 5466441.289, 477459.281...</td>\n",
       "    </tr>\n",
       "    <tr>\n",
       "      <th>1</th>\n",
       "      <td>43.77</td>\n",
       "      <td>9.48</td>\n",
       "      <td>600.0</td>\n",
       "      <td>1.0</td>\n",
       "      <td>1</td>\n",
       "      <td>car,ride</td>\n",
       "      <td>120628180</td>\n",
       "      <td>1731805232</td>\n",
       "      <td>1856452849</td>\n",
       "      <td>LINESTRING (477416.113 5466442.390, 477459.281...</td>\n",
       "    </tr>\n",
       "    <tr>\n",
       "      <th>2</th>\n",
       "      <td>61.02</td>\n",
       "      <td>9.56</td>\n",
       "      <td>1200.0</td>\n",
       "      <td>2.0</td>\n",
       "      <td>1</td>\n",
       "      <td>car,ride</td>\n",
       "      <td>10000015</td>\n",
       "      <td>1944304351</td>\n",
       "      <td>269775762</td>\n",
       "      <td>LINESTRING (477508.123 5466441.289, 477557.847...</td>\n",
       "    </tr>\n",
       "    <tr>\n",
       "      <th>3</th>\n",
       "      <td>31.49</td>\n",
       "      <td>5.70</td>\n",
       "      <td>1200.0</td>\n",
       "      <td>2.0</td>\n",
       "      <td>1</td>\n",
       "      <td>car,ride</td>\n",
       "      <td>69483004</td>\n",
       "      <td>1834445603</td>\n",
       "      <td>269775762</td>\n",
       "      <td>LINESTRING (477572.063 5466378.392, 477557.847...</td>\n",
       "    </tr>\n",
       "    <tr>\n",
       "      <th>4</th>\n",
       "      <td>41.14</td>\n",
       "      <td>5.71</td>\n",
       "      <td>1200.0</td>\n",
       "      <td>2.0</td>\n",
       "      <td>1</td>\n",
       "      <td>car,ride</td>\n",
       "      <td>82780285</td>\n",
       "      <td>1944304351</td>\n",
       "      <td>1944304386</td>\n",
       "      <td>LINESTRING (477508.123 5466441.289, 477542.612...</td>\n",
       "    </tr>\n",
       "  </tbody>\n",
       "</table>\n",
       "</div>"
      ],
      "text/plain": [
       "   length  freespeed  capacity  permlanes oneway     modes    link_id  \\\n",
       "0   50.53       9.47    1200.0        2.0      1  car,ride   10000014   \n",
       "1   43.77       9.48     600.0        1.0      1  car,ride  120628180   \n",
       "2   61.02       9.56    1200.0        2.0      1  car,ride   10000015   \n",
       "3   31.49       5.70    1200.0        2.0      1  car,ride   69483004   \n",
       "4   41.14       5.71    1200.0        2.0      1  car,ride   82780285   \n",
       "\n",
       "    from_node     to_node                                           geometry  \n",
       "0  1944304351  1856452849  LINESTRING (477508.123 5466441.289, 477459.281...  \n",
       "1  1731805232  1856452849  LINESTRING (477416.113 5466442.390, 477459.281...  \n",
       "2  1944304351   269775762  LINESTRING (477508.123 5466441.289, 477557.847...  \n",
       "3  1834445603   269775762  LINESTRING (477572.063 5466378.392, 477557.847...  \n",
       "4  1944304351  1944304386  LINESTRING (477508.123 5466441.289, 477542.612...  "
      ]
     },
     "execution_count": 6,
     "metadata": {},
     "output_type": "execute_result"
    }
   ],
   "source": [
    "gdf_geo.head()"
   ]
  },
  {
   "cell_type": "markdown",
   "metadata": {},
   "source": [
    "### Explore"
   ]
  },
  {
   "cell_type": "code",
   "execution_count": 7,
   "metadata": {},
   "outputs": [],
   "source": [
    "df = pd.DataFrame(gdf_geo.drop(columns=['geometry']))"
   ]
  },
  {
   "cell_type": "code",
   "execution_count": 8,
   "metadata": {},
   "outputs": [
    {
     "data": {
      "image/png": "[encoded data removed]",
      "text/plain": [
       "<Figure size 432x288 with 1 Axes>"
      ]
     },
     "metadata": {
      "needs_background": "light"
     },
     "output_type": "display_data"
    }
   ],
   "source": [
    "ax = df.plot.scatter(x='capacity',\n",
    "                    y='freespeed',\n",
    "                    c='DarkBlue')"
   ]
  },
  {
   "cell_type": "code",
   "execution_count": 9,
   "metadata": {},
   "outputs": [
    {
     "data": {
      "text/plain": [
       "<matplotlib.axes._subplots.AxesSubplot at 0x23265051748>"
      ]
     },
     "execution_count": 9,
     "metadata": {},
     "output_type": "execute_result"
    }
   ],
   "source": [
    "ax"
   ]
  },
  {
   "cell_type": "markdown",
   "metadata": {},
   "source": [
    "### Write output"
   ]
  },
  {
   "cell_type": "code",
   "execution_count": null,
   "metadata": {},
   "outputs": [],
   "source": [
    "gdf_geo.to_file(outputShape)"
   ]
  },
  {
   "cell_type": "markdown",
   "metadata": {},
   "source": [
    "### Export again from adjusted shapeFile\n",
    "\n",
    "\n"
   ]
  },
  {
   "cell_type": "code",
   "execution_count": 10,
   "metadata": {},
   "outputs": [],
   "source": [
    "networkPath = \"C:/Users/david/OneDrive/02_Uni/02_Master/05_Masterarbeit/03_MATSim/01_prep/07_Measures/01_street_closure/network_adjusted.xml.gz\"\n",
    "outputShape = \"C:/Users/david/OneDrive/02_Uni/02_Master/05_Masterarbeit/03_MATSim/01_prep/07_Measures/01_street_closure/network_adjusted_v2.shp\""
   ]
  },
  {
   "cell_type": "code",
   "execution_count": 11,
   "metadata": {},
   "outputs": [],
   "source": [
    "net = matsim.read_network(networkPath)"
   ]
  },
  {
   "cell_type": "code",
   "execution_count": 12,
   "metadata": {},
   "outputs": [],
   "source": [
    "gdf_geo = net.as_geo()"
   ]
  },
  {
   "cell_type": "code",
   "execution_count": 13,
   "metadata": {},
   "outputs": [],
   "source": [
    "gdf_geo = gdf_geo[~gdf_geo[\"link_id\"].str.startswith(\"tr\")]"
   ]
  },
  {
   "cell_type": "code",
   "execution_count": 14,
   "metadata": {},
   "outputs": [
    {
     "data": {
      "text/html": [
       "<div>\n",
       "<style scoped>\n",
       "    .dataframe tbody tr th:only-of-type {\n",
       "        vertical-align: middle;\n",
       "    }\n",
       "\n",
       "    .dataframe tbody tr th {\n",
       "        vertical-align: top;\n",
       "    }\n",
       "\n",
       "    .dataframe thead th {\n",
       "        text-align: right;\n",
       "    }\n",
       "</style>\n",
       "<table border=\"1\" class=\"dataframe\">\n",
       "  <thead>\n",
       "    <tr style=\"text-align: right;\">\n",
       "      <th></th>\n",
       "      <th>length</th>\n",
       "      <th>freespeed</th>\n",
       "      <th>capacity</th>\n",
       "      <th>permlanes</th>\n",
       "      <th>oneway</th>\n",
       "      <th>modes</th>\n",
       "      <th>link_id</th>\n",
       "      <th>from_node</th>\n",
       "      <th>to_node</th>\n",
       "      <th>geometry</th>\n",
       "    </tr>\n",
       "  </thead>\n",
       "  <tbody>\n",
       "    <tr>\n",
       "      <th>0</th>\n",
       "      <td>50.53</td>\n",
       "      <td>9.47</td>\n",
       "      <td>1200.0</td>\n",
       "      <td>2.0</td>\n",
       "      <td>1</td>\n",
       "      <td>car,ride</td>\n",
       "      <td>10000014</td>\n",
       "      <td>1944304351</td>\n",
       "      <td>1856452849</td>\n",
       "      <td>LINESTRING (477508.123 5466441.289, 477459.281...</td>\n",
       "    </tr>\n",
       "    <tr>\n",
       "      <th>1</th>\n",
       "      <td>43.77</td>\n",
       "      <td>9.48</td>\n",
       "      <td>600.0</td>\n",
       "      <td>1.0</td>\n",
       "      <td>1</td>\n",
       "      <td>car,ride</td>\n",
       "      <td>120628180</td>\n",
       "      <td>1731805232</td>\n",
       "      <td>1856452849</td>\n",
       "      <td>LINESTRING (477416.113 5466442.390, 477459.281...</td>\n",
       "    </tr>\n",
       "    <tr>\n",
       "      <th>2</th>\n",
       "      <td>61.02</td>\n",
       "      <td>9.56</td>\n",
       "      <td>1200.0</td>\n",
       "      <td>2.0</td>\n",
       "      <td>1</td>\n",
       "      <td>car,ride</td>\n",
       "      <td>10000015</td>\n",
       "      <td>1944304351</td>\n",
       "      <td>269775762</td>\n",
       "      <td>LINESTRING (477508.123 5466441.289, 477557.847...</td>\n",
       "    </tr>\n",
       "    <tr>\n",
       "      <th>3</th>\n",
       "      <td>31.49</td>\n",
       "      <td>5.70</td>\n",
       "      <td>1200.0</td>\n",
       "      <td>2.0</td>\n",
       "      <td>1</td>\n",
       "      <td>car,ride</td>\n",
       "      <td>69483004</td>\n",
       "      <td>1834445603</td>\n",
       "      <td>269775762</td>\n",
       "      <td>LINESTRING (477572.063 5466378.392, 477557.847...</td>\n",
       "    </tr>\n",
       "    <tr>\n",
       "      <th>4</th>\n",
       "      <td>41.14</td>\n",
       "      <td>5.71</td>\n",
       "      <td>1200.0</td>\n",
       "      <td>2.0</td>\n",
       "      <td>1</td>\n",
       "      <td>car,ride</td>\n",
       "      <td>82780285</td>\n",
       "      <td>1944304351</td>\n",
       "      <td>1944304386</td>\n",
       "      <td>LINESTRING (477508.123 5466441.289, 477542.612...</td>\n",
       "    </tr>\n",
       "  </tbody>\n",
       "</table>\n",
       "</div>"
      ],
      "text/plain": [
       "   length  freespeed  capacity  permlanes oneway     modes    link_id  \\\n",
       "0   50.53       9.47    1200.0        2.0      1  car,ride   10000014   \n",
       "1   43.77       9.48     600.0        1.0      1  car,ride  120628180   \n",
       "2   61.02       9.56    1200.0        2.0      1  car,ride   10000015   \n",
       "3   31.49       5.70    1200.0        2.0      1  car,ride   69483004   \n",
       "4   41.14       5.71    1200.0        2.0      1  car,ride   82780285   \n",
       "\n",
       "    from_node     to_node                                           geometry  \n",
       "0  1944304351  1856452849  LINESTRING (477508.123 5466441.289, 477459.281...  \n",
       "1  1731805232  1856452849  LINESTRING (477416.113 5466442.390, 477459.281...  \n",
       "2  1944304351   269775762  LINESTRING (477508.123 5466441.289, 477557.847...  \n",
       "3  1834445603   269775762  LINESTRING (477572.063 5466378.392, 477557.847...  \n",
       "4  1944304351  1944304386  LINESTRING (477508.123 5466441.289, 477542.612...  "
      ]
     },
     "execution_count": 14,
     "metadata": {},
     "output_type": "execute_result"
    }
   ],
   "source": [
    "gdf_geo.head()"
   ]
  },
  {
   "cell_type": "code",
   "execution_count": 15,
   "metadata": {},
   "outputs": [
    {
     "data": {
      "text/html": [
       "<div>\n",
       "<style scoped>\n",
       "    .dataframe tbody tr th:only-of-type {\n",
       "        vertical-align: middle;\n",
       "    }\n",
       "\n",
       "    .dataframe tbody tr th {\n",
       "        vertical-align: top;\n",
       "    }\n",
       "\n",
       "    .dataframe thead th {\n",
       "        text-align: right;\n",
       "    }\n",
       "</style>\n",
       "<table border=\"1\" class=\"dataframe\">\n",
       "  <thead>\n",
       "    <tr style=\"text-align: right;\">\n",
       "      <th></th>\n",
       "      <th>length</th>\n",
       "      <th>freespeed</th>\n",
       "      <th>capacity</th>\n",
       "      <th>permlanes</th>\n",
       "      <th>oneway</th>\n",
       "      <th>modes</th>\n",
       "      <th>link_id</th>\n",
       "      <th>from_node</th>\n",
       "      <th>to_node</th>\n",
       "      <th>geometry</th>\n",
       "    </tr>\n",
       "  </thead>\n",
       "  <tbody>\n",
       "  </tbody>\n",
       "</table>\n",
       "</div>"
      ],
      "text/plain": [
       "Empty GeoDataFrame\n",
       "Columns: [length, freespeed, capacity, permlanes, oneway, modes, link_id, from_node, to_node, geometry]\n",
       "Index: []"
      ]
     },
     "execution_count": 15,
     "metadata": {},
     "output_type": "execute_result"
    }
   ],
   "source": [
    "gdf_geo[gdf_geo['modes']=='']"
   ]
  },
  {
   "cell_type": "code",
   "execution_count": 16,
   "metadata": {},
   "outputs": [],
   "source": [
    "gdf_geo.to_file(outputShape)"
   ]
  },
  {
   "cell_type": "code",
   "execution_count": null,
   "metadata": {},
   "outputs": [],
   "source": []
  }
 ],
 "metadata": {
  "kernelspec": {
   "display_name": "Python 3",
   "language": "python",
   "name": "python3"
  },
  "language_info": {
   "codemirror_mode": {
    "name": "ipython",
    "version": 3
   },
   "file_extension": ".py",
   "mimetype": "text/x-python",
   "name": "python",
   "nbconvert_exporter": "python",
   "pygments_lexer": "ipython3",
   "version": "3.7.9"
  }
 },
 "nbformat": 4,
 "nbformat_minor": 4
}
