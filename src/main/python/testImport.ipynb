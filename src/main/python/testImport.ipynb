{
 "cells": [
  {
   "cell_type": "markdown",
   "metadata": {},
   "source": [
    "## PART 1"
   ]
  },
  {
   "cell_type": "code",
   "execution_count": null,
   "metadata": {},
   "outputs": [],
   "source": [
    "from analysis.sim_import import parse_trips_file, parse_legs_file\n",
    "from analysis.utils import load_df_to_database, load_db_parameters"
   ]
  },
  {
   "cell_type": "code",
   "execution_count": null,
   "metadata": {},
   "outputs": [],
   "source": [
    "import pandas as pd\n",
    "import geopandas as gpd"
   ]
  },
  {
   "cell_type": "code",
   "execution_count": null,
   "metadata": {},
   "outputs": [],
   "source": [
    "trips = 'Y:/stuttgart-v1.0/05_stuttgart-v1.0_scenariotest/output/output-m5_2/m5_2.output_trips.csv.gz'\n",
    "db_parameter = 'C:/Users/david/OneDrive/02_Uni/02_Master/05_Masterarbeit/03_MATSim/03_analysis/01_calibration/db_param_10pct.json'\n",
    "db_parameter = load_db_parameters(db_parameter)"
   ]
  },
  {
   "cell_type": "code",
   "execution_count": null,
   "metadata": {},
   "outputs": [],
   "source": [
    "gdf = parse_trips_file(trips)"
   ]
  },
  {
   "cell_type": "code",
   "execution_count": null,
   "metadata": {},
   "outputs": [],
   "source": [
    "gdf.head(3)"
   ]
  },
  {
   "cell_type": "code",
   "execution_count": null,
   "metadata": {},
   "outputs": [],
   "source": [
    "gdf.loc[1144]"
   ]
  },
  {
   "cell_type": "code",
   "execution_count": null,
   "metadata": {},
   "outputs": [],
   "source": [
    "sample = gdf.sample(n=3)\n",
    "sample"
   ]
  },
  {
   "cell_type": "code",
   "execution_count": null,
   "metadata": {},
   "outputs": [],
   "source": [
    "table_name = 'sim_trips_raw'\n",
    "table_schema = 'matsim_output'\n",
    "\n",
    "DATA_METADATA = {\n",
    "    'title': 'Trips',\n",
    "    'description': 'Trip table',\n",
    "    'source_name': 'Senozon Input',\n",
    "    'source_url': 'Nan',\n",
    "    'source_year': '2020',\n",
    "    'source_download_date': 'Nan',\n",
    "}"
   ]
  },
  {
   "cell_type": "code",
   "execution_count": null,
   "metadata": {},
   "outputs": [],
   "source": [
    "load_df_to_database(\n",
    "    df=sample,\n",
    "    update_mode='append',\n",
    "    db_parameter=db_parameter,\n",
    "    schema=table_schema,\n",
    "    table_name=table_name,\n",
    "    meta_data=DATA_METADATA,\n",
    "    geom_cols={'geometry': 'LINESTRING'})"
   ]
  },
  {
   "cell_type": "markdown",
   "metadata": {},
   "source": [
    "## PART 2"
   ]
  },
  {
   "cell_type": "code",
   "execution_count": null,
   "metadata": {},
   "outputs": [],
   "source": [
    "import pandas as pd"
   ]
  },
  {
   "cell_type": "code",
   "execution_count": null,
   "metadata": {},
   "outputs": [],
   "source": [
    "calib = 'C:/Users/david/OneDrive/02_Uni/02_Master/05_Masterarbeit/03_MATSim/01_prep/05_CalibrationData/Calibration_Data_v2.xlsx'\n",
    "table = pd.read_excel(calib, sheet_name='05_OEVSegmente', skipfooter=10)"
   ]
  },
  {
   "cell_type": "code",
   "execution_count": null,
   "metadata": {},
   "outputs": [],
   "source": [
    "table"
   ]
  },
  {
   "cell_type": "markdown",
   "metadata": {},
   "source": [
    "## PART 3"
   ]
  },
  {
   "cell_type": "code",
   "execution_count": null,
   "metadata": {},
   "outputs": [],
   "source": [
    "import pandas as pd\n",
    "import geopandas as gpd\n",
    "from matsim import read_network"
   ]
  },
  {
   "cell_type": "code",
   "execution_count": null,
   "metadata": {},
   "outputs": [],
   "source": [
    "network = 'C:/Users/david/Desktop/bc.output_network.xml.gz'"
   ]
  },
  {
   "cell_type": "code",
   "execution_count": null,
   "metadata": {},
   "outputs": [],
   "source": [
    "network = read_network(network, True)\n",
    "gdf_network = network.as_geo()\n",
    "gdf_network = gdf_network.set_crs(epsg=25832)"
   ]
  },
  {
   "cell_type": "code",
   "execution_count": null,
   "metadata": {},
   "outputs": [],
   "source": [
    "network.link_attrs"
   ]
  },
  {
   "cell_type": "code",
   "execution_count": null,
   "metadata": {},
   "outputs": [],
   "source": [
    "gdf_network.head(3)"
   ]
  },
  {
   "cell_type": "markdown",
   "metadata": {},
   "source": [
    "## PART 4"
   ]
  },
  {
   "cell_type": "code",
   "execution_count": null,
   "metadata": {},
   "outputs": [],
   "source": [
    "import pandas as pd\n",
    "import geopandas as gpd"
   ]
  },
  {
   "cell_type": "code",
   "execution_count": null,
   "metadata": {},
   "outputs": [],
   "source": [
    "network = \"C:/Users/david/OneDrive/02_Uni/02_Master/05_Masterarbeit/03_MATSim/02_runs/stuttgart-v1.0/05_stuttgart-v1.0_scenariotest/output/output-m5_1/network-shp/m5_1.network.shp\"\n",
    "gdf = gpd.read_file(network)"
   ]
  },
  {
   "cell_type": "code",
   "execution_count": null,
   "metadata": {},
   "outputs": [],
   "source": [
    "gdf.head(3)"
   ]
  },
  {
   "cell_type": "code",
   "execution_count": null,
   "metadata": {},
   "outputs": [],
   "source": [
    "gdf.crs"
   ]
  },
  {
   "cell_type": "markdown",
   "metadata": {},
   "source": [
    "## PART 5"
   ]
  },
  {
   "cell_type": "code",
   "execution_count": null,
   "metadata": {},
   "outputs": [],
   "source": [
    "import xml.etree.ElementTree as ET\n",
    "import gzip\n",
    "import pandas as pd\n",
    "import shapely as shp\n",
    "import geopandas as gpd"
   ]
  },
  {
   "cell_type": "code",
   "execution_count": null,
   "metadata": {},
   "outputs": [],
   "source": [
    "tSFile = \"C:/Users/david/Desktop/m5_ex.output_transitSchedule.xml.gz\""
   ]
  },
  {
   "cell_type": "code",
   "execution_count": null,
   "metadata": {},
   "outputs": [],
   "source": [
    "transitStops = list()\n",
    "\n",
    "try:\n",
    "    with gzip.open(tSFile) as f:\n",
    "        tree = ET.parse(f)\n",
    "        root = tree.getroot()\n",
    "        \n",
    "        for tSF in root.find('./transitStops'):\n",
    "               \n",
    "        transitStops.append({\n",
    "            \"id\": tSF.attrib['id'],\n",
    "            \"x\": tSF.attrib['x'],\n",
    "            \"y\": tSF.attrib['y'],\n",
    "            \"link_ref_id\": tSF.attrib['linkRefId'],\n",
    "            \"name\": tSF.attrib['name'],\n",
    "            \"is_blocking\": tSF.attrib['isBlocking'],\n",
    "            \"vvs_bike_ride\": tSF.find('./attributes/attribute[@name=\"VVSBikeAndRide\"]').text\n",
    "                  \n",
    "            })\n",
    "                \n",
    "            \n",
    "except OSError as e:\n",
    "    raise Exception(e.strerror)\n",
    "    \n",
    "transitStops = pd.DataFrame(transitStops)"
   ]
  },
  {
   "cell_type": "code",
   "execution_count": null,
   "metadata": {},
   "outputs": [],
   "source": [
    "transitStops = gpd.GeoDataFrame(transitStops, geometry=gpd.points_from_xy(transitStops.x, transitStops.y))"
   ]
  },
  {
   "cell_type": "markdown",
   "metadata": {},
   "source": [
    "## PART 6"
   ]
  },
  {
   "cell_type": "code",
   "execution_count": 1,
   "metadata": {},
   "outputs": [],
   "source": [
    "import numpy as np\n",
    "import pandas as pd\n",
    "import geopandas as gpd\n",
    "import matsim"
   ]
  },
  {
   "cell_type": "code",
   "execution_count": 2,
   "metadata": {},
   "outputs": [],
   "source": [
    "plans_str = \"C:/Users/david/OneDrive/02_Uni/02_Master/05_Masterarbeit/03_MATSim/02_runs/stuttgart-v1.0/01_stuttgart-v1.0_fstRun01/input/stuttgart-v1.0-10pct.plans.xml.gz\""
   ]
  },
  {
   "cell_type": "code",
   "execution_count": 3,
   "metadata": {},
   "outputs": [],
   "source": [
    "activities = list()\n",
    "\n",
    "time = lambda act, key: act.attrib[key] if key in act.attrib else np.nan\n",
    "\n",
    "\n",
    "plans = matsim.plan_reader(plans_str, selectedPlansOnly=True)\n",
    "for person, plan in plans:\n",
    "    \n",
    "    acts = list(filter(lambda e: e.tag == 'activity',\n",
    "                        plan))\n",
    "    \n",
    "    for x in range(len(acts)):\n",
    "        activities.append({\n",
    "            'peson_id': person.attrib['id'],\n",
    "            'act_no': x+1,\n",
    "            'act_type': acts[x].attrib['type'],\n",
    "            'start_time': time(acts[x], 'start_time'),\n",
    "            'end_time': time(acts[x], 'end_time'),\n",
    "            'x': acts[x].attrib['x'],\n",
    "            'y': acts[x].attrib['y']   \n",
    "        })\n",
    "        \n",
    "activities = pd.DataFrame(activities)"
   ]
  },
  {
   "cell_type": "code",
   "execution_count": 7,
   "metadata": {},
   "outputs": [],
   "source": [
    "activities['x'] = activities['x'].apply(float)\n",
    "activities['y'] = activities['x'].apply(float)"
   ]
  },
  {
   "cell_type": "code",
   "execution_count": 9,
   "metadata": {},
   "outputs": [
    {
     "data": {
      "text/plain": [
       "peson_id       object\n",
       "act_no          int64\n",
       "act_type       object\n",
       "start_time     object\n",
       "end_time       object\n",
       "x             float64\n",
       "y             float64\n",
       "dtype: object"
      ]
     },
     "execution_count": 9,
     "metadata": {},
     "output_type": "execute_result"
    }
   ],
   "source": [
    "activities.dtypes"
   ]
  },
  {
   "cell_type": "code",
   "execution_count": 8,
   "metadata": {},
   "outputs": [
    {
     "data": {
      "text/html": [
       "<div>\n",
       "<style scoped>\n",
       "    .dataframe tbody tr th:only-of-type {\n",
       "        vertical-align: middle;\n",
       "    }\n",
       "\n",
       "    .dataframe tbody tr th {\n",
       "        vertical-align: top;\n",
       "    }\n",
       "\n",
       "    .dataframe thead th {\n",
       "        text-align: right;\n",
       "    }\n",
       "</style>\n",
       "<table border=\"1\" class=\"dataframe\">\n",
       "  <thead>\n",
       "    <tr style=\"text-align: right;\">\n",
       "      <th></th>\n",
       "      <th>peson_id</th>\n",
       "      <th>act_no</th>\n",
       "      <th>act_type</th>\n",
       "      <th>start_time</th>\n",
       "      <th>end_time</th>\n",
       "      <th>x</th>\n",
       "      <th>y</th>\n",
       "    </tr>\n",
       "  </thead>\n",
       "  <tbody>\n",
       "    <tr>\n",
       "      <th>0</th>\n",
       "      <td>67166005_456</td>\n",
       "      <td>1</td>\n",
       "      <td>home_29400.0</td>\n",
       "      <td>00:00:00</td>\n",
       "      <td>08:13:07</td>\n",
       "      <td>460260.397858</td>\n",
       "      <td>460260.397858</td>\n",
       "    </tr>\n",
       "    <tr>\n",
       "      <th>1</th>\n",
       "      <td>67166005_456</td>\n",
       "      <td>2</td>\n",
       "      <td>errands_2400.0</td>\n",
       "      <td>09:47:28</td>\n",
       "      <td>10:28:04</td>\n",
       "      <td>513539.136964</td>\n",
       "      <td>513539.136964</td>\n",
       "    </tr>\n",
       "    <tr>\n",
       "      <th>2</th>\n",
       "      <td>67166005_456</td>\n",
       "      <td>3</td>\n",
       "      <td>errands_48600.0</td>\n",
       "      <td>10:31:51</td>\n",
       "      <td>NaN</td>\n",
       "      <td>513043.995492</td>\n",
       "      <td>513043.995492</td>\n",
       "    </tr>\n",
       "  </tbody>\n",
       "</table>\n",
       "</div>"
      ],
      "text/plain": [
       "       peson_id  act_no         act_type start_time  end_time              x  \\\n",
       "0  67166005_456       1     home_29400.0   00:00:00  08:13:07  460260.397858   \n",
       "1  67166005_456       2   errands_2400.0   09:47:28  10:28:04  513539.136964   \n",
       "2  67166005_456       3  errands_48600.0   10:31:51       NaN  513043.995492   \n",
       "\n",
       "               y  \n",
       "0  460260.397858  \n",
       "1  513539.136964  \n",
       "2  513043.995492  "
      ]
     },
     "execution_count": 8,
     "metadata": {},
     "output_type": "execute_result"
    }
   ],
   "source": [
    "activities.head(3)"
   ]
  },
  {
   "cell_type": "code",
   "execution_count": 12,
   "metadata": {},
   "outputs": [],
   "source": [
    "activities = gpd.GeoDataFrame(\n",
    "    activities, geometry=gpd.points_from_xy(activities.x, activities.y))"
   ]
  },
  {
   "cell_type": "code",
   "execution_count": 15,
   "metadata": {},
   "outputs": [],
   "source": [
    "activities = activities.set_crs(25832)"
   ]
  },
  {
   "cell_type": "code",
   "execution_count": 16,
   "metadata": {},
   "outputs": [
    {
     "data": {
      "text/html": [
       "<div>\n",
       "<style scoped>\n",
       "    .dataframe tbody tr th:only-of-type {\n",
       "        vertical-align: middle;\n",
       "    }\n",
       "\n",
       "    .dataframe tbody tr th {\n",
       "        vertical-align: top;\n",
       "    }\n",
       "\n",
       "    .dataframe thead th {\n",
       "        text-align: right;\n",
       "    }\n",
       "</style>\n",
       "<table border=\"1\" class=\"dataframe\">\n",
       "  <thead>\n",
       "    <tr style=\"text-align: right;\">\n",
       "      <th></th>\n",
       "      <th>peson_id</th>\n",
       "      <th>act_no</th>\n",
       "      <th>act_type</th>\n",
       "      <th>start_time</th>\n",
       "      <th>end_time</th>\n",
       "      <th>x</th>\n",
       "      <th>y</th>\n",
       "      <th>geometry</th>\n",
       "    </tr>\n",
       "  </thead>\n",
       "  <tbody>\n",
       "    <tr>\n",
       "      <th>0</th>\n",
       "      <td>67166005_456</td>\n",
       "      <td>1</td>\n",
       "      <td>home_29400.0</td>\n",
       "      <td>00:00:00</td>\n",
       "      <td>08:13:07</td>\n",
       "      <td>460260.397858</td>\n",
       "      <td>460260.397858</td>\n",
       "      <td>POINT (460260.398 460260.398)</td>\n",
       "    </tr>\n",
       "    <tr>\n",
       "      <th>1</th>\n",
       "      <td>67166005_456</td>\n",
       "      <td>2</td>\n",
       "      <td>errands_2400.0</td>\n",
       "      <td>09:47:28</td>\n",
       "      <td>10:28:04</td>\n",
       "      <td>513539.136964</td>\n",
       "      <td>513539.136964</td>\n",
       "      <td>POINT (513539.137 513539.137)</td>\n",
       "    </tr>\n",
       "    <tr>\n",
       "      <th>2</th>\n",
       "      <td>67166005_456</td>\n",
       "      <td>3</td>\n",
       "      <td>errands_48600.0</td>\n",
       "      <td>10:31:51</td>\n",
       "      <td>NaN</td>\n",
       "      <td>513043.995492</td>\n",
       "      <td>513043.995492</td>\n",
       "      <td>POINT (513043.995 513043.995)</td>\n",
       "    </tr>\n",
       "  </tbody>\n",
       "</table>\n",
       "</div>"
      ],
      "text/plain": [
       "       peson_id  act_no         act_type start_time  end_time              x  \\\n",
       "0  67166005_456       1     home_29400.0   00:00:00  08:13:07  460260.397858   \n",
       "1  67166005_456       2   errands_2400.0   09:47:28  10:28:04  513539.136964   \n",
       "2  67166005_456       3  errands_48600.0   10:31:51       NaN  513043.995492   \n",
       "\n",
       "               y                       geometry  \n",
       "0  460260.397858  POINT (460260.398 460260.398)  \n",
       "1  513539.136964  POINT (513539.137 513539.137)  \n",
       "2  513043.995492  POINT (513043.995 513043.995)  "
      ]
     },
     "execution_count": 16,
     "metadata": {},
     "output_type": "execute_result"
    }
   ],
   "source": [
    "activities.head(3)"
   ]
  },
  {
   "cell_type": "markdown",
   "metadata": {},
   "source": [
    "## PART 7"
   ]
  },
  {
   "cell_type": "code",
   "execution_count": 1,
   "metadata": {},
   "outputs": [],
   "source": [
    "import pandas as pd\n",
    "import geopandas as gpd\n",
    "from analysis.utils import load_df_to_database, load_db_parameters\n",
    "import xml.etree.ElementTree as ET"
   ]
  },
  {
   "cell_type": "code",
   "execution_count": 2,
   "metadata": {},
   "outputs": [],
   "source": [
    "config_param = \"C:/Users/david/OneDrive/02_Uni/02_Master/05_Masterarbeit/03_MATSim/02_runs/stuttgart-v1.0/05_stuttgart-v1.0_scenariotest/stuttgart-v1.0-0.001pct.config_bc.xml\""
   ]
  },
  {
   "cell_type": "code",
   "execution_count": 3,
   "metadata": {},
   "outputs": [],
   "source": [
    "tree = ET.parse(config_param)\n",
    "root = tree.getroot()\n",
    "\n",
    "df = list()\n",
    "\n",
    "for teleported_mode_param in root.findall(\"./module[@name='planscalcroute']/parameterset[@type='teleportedModeParameters']\"):\n",
    "    \n",
    "    if not(teleported_mode_param.find(\"./param[@value='bike']\") == None):\n",
    "        \n",
    "        mode_speed = teleported_mode_param.find(\"./param[@name='teleportedModeSpeed']\")\n",
    "        df.append({'run_name': 'test', 'speed_value': mode_speed.attrib.get(\"value\")})\n",
    "        \n",
    "df = pd.DataFrame(df)"
   ]
  },
  {
   "cell_type": "code",
   "execution_count": 4,
   "metadata": {},
   "outputs": [
    {
     "data": {
      "text/html": [
       "<div>\n",
       "<style scoped>\n",
       "    .dataframe tbody tr th:only-of-type {\n",
       "        vertical-align: middle;\n",
       "    }\n",
       "\n",
       "    .dataframe tbody tr th {\n",
       "        vertical-align: top;\n",
       "    }\n",
       "\n",
       "    .dataframe thead th {\n",
       "        text-align: right;\n",
       "    }\n",
       "</style>\n",
       "<table border=\"1\" class=\"dataframe\">\n",
       "  <thead>\n",
       "    <tr style=\"text-align: right;\">\n",
       "      <th></th>\n",
       "      <th>run_name</th>\n",
       "      <th>speed_value</th>\n",
       "    </tr>\n",
       "  </thead>\n",
       "  <tbody>\n",
       "    <tr>\n",
       "      <th>0</th>\n",
       "      <td>test</td>\n",
       "      <td>4.0579732</td>\n",
       "    </tr>\n",
       "  </tbody>\n",
       "</table>\n",
       "</div>"
      ],
      "text/plain": [
       "  run_name speed_value\n",
       "0     test   4.0579732"
      ]
     },
     "execution_count": 4,
     "metadata": {},
     "output_type": "execute_result"
    }
   ],
   "source": [
    "df"
   ]
  },
  {
   "cell_type": "code",
   "execution_count": 4,
   "metadata": {},
   "outputs": [
    {
     "data": {
      "text/html": [
       "<div>\n",
       "<style scoped>\n",
       "    .dataframe tbody tr th:only-of-type {\n",
       "        vertical-align: middle;\n",
       "    }\n",
       "\n",
       "    .dataframe tbody tr th {\n",
       "        vertical-align: top;\n",
       "    }\n",
       "\n",
       "    .dataframe thead th {\n",
       "        text-align: right;\n",
       "    }\n",
       "</style>\n",
       "<table border=\"1\" class=\"dataframe\">\n",
       "  <thead>\n",
       "    <tr style=\"text-align: right;\">\n",
       "      <th></th>\n",
       "      <th>constant</th>\n",
       "      <th>dailyMonetaryConstant</th>\n",
       "      <th>dailyUtilityConstant</th>\n",
       "      <th>marginalUtilityOfDistance_util_m</th>\n",
       "      <th>marginalUtilityOfTraveling_util_hr</th>\n",
       "      <th>mode</th>\n",
       "      <th>monetaryDistanceRate</th>\n",
       "      <th>run_name</th>\n",
       "    </tr>\n",
       "  </thead>\n",
       "  <tbody>\n",
       "    <tr>\n",
       "      <th>0</th>\n",
       "      <td>-2.0</td>\n",
       "      <td>-5.3</td>\n",
       "      <td>0.0</td>\n",
       "      <td>0.0</td>\n",
       "      <td>0.0</td>\n",
       "      <td>car</td>\n",
       "      <td>-2.0E-4</td>\n",
       "      <td>test</td>\n",
       "    </tr>\n",
       "    <tr>\n",
       "      <th>1</th>\n",
       "      <td>-4.0</td>\n",
       "      <td>0.0</td>\n",
       "      <td>0.0</td>\n",
       "      <td>0.0</td>\n",
       "      <td>-4.5</td>\n",
       "      <td>ride</td>\n",
       "      <td>-2.0E-4</td>\n",
       "      <td>test</td>\n",
       "    </tr>\n",
       "    <tr>\n",
       "      <th>2</th>\n",
       "      <td>-1.2</td>\n",
       "      <td>0.0</td>\n",
       "      <td>0.0</td>\n",
       "      <td>0.0</td>\n",
       "      <td>-5.7</td>\n",
       "      <td>pt</td>\n",
       "      <td>0.0</td>\n",
       "      <td>test</td>\n",
       "    </tr>\n",
       "    <tr>\n",
       "      <th>3</th>\n",
       "      <td>-2.7</td>\n",
       "      <td>-0.5</td>\n",
       "      <td>0.0</td>\n",
       "      <td>0.0</td>\n",
       "      <td>-6.5</td>\n",
       "      <td>bike</td>\n",
       "      <td>0.0</td>\n",
       "      <td>test</td>\n",
       "    </tr>\n",
       "    <tr>\n",
       "      <th>4</th>\n",
       "      <td>0.0</td>\n",
       "      <td>0.0</td>\n",
       "      <td>0.0</td>\n",
       "      <td>0.0</td>\n",
       "      <td>-1.7</td>\n",
       "      <td>walk</td>\n",
       "      <td>0.0</td>\n",
       "      <td>test</td>\n",
       "    </tr>\n",
       "  </tbody>\n",
       "</table>\n",
       "</div>"
      ],
      "text/plain": [
       "  constant dailyMonetaryConstant dailyUtilityConstant  \\\n",
       "0     -2.0                  -5.3                  0.0   \n",
       "1     -4.0                   0.0                  0.0   \n",
       "2     -1.2                   0.0                  0.0   \n",
       "3     -2.7                  -0.5                  0.0   \n",
       "4      0.0                   0.0                  0.0   \n",
       "\n",
       "  marginalUtilityOfDistance_util_m marginalUtilityOfTraveling_util_hr  mode  \\\n",
       "0                              0.0                                0.0   car   \n",
       "1                              0.0                               -4.5  ride   \n",
       "2                              0.0                               -5.7    pt   \n",
       "3                              0.0                               -6.5  bike   \n",
       "4                              0.0                               -1.7  walk   \n",
       "\n",
       "  monetaryDistanceRate run_name  \n",
       "0              -2.0E-4     test  \n",
       "1              -2.0E-4     test  \n",
       "2                  0.0     test  \n",
       "3                  0.0     test  \n",
       "4                  0.0     test  "
      ]
     },
     "execution_count": 4,
     "metadata": {},
     "output_type": "execute_result"
    }
   ],
   "source": [
    "df_modeParameters"
   ]
  },
  {
   "cell_type": "code",
   "execution_count": null,
   "metadata": {},
   "outputs": [],
   "source": [
    "for teleportedModeParams in root.findall(\"./module[@name='planscalcroute']/parameterset[@type='teleportedModeParameters']\"):\n",
    "    \n",
    "    if teleportedModeParams.find(\"./param[@mode='bike']\") == \n",
    "    \n",
    "    \n",
    "    row = dict()\n",
    "    for node in modeParameters:\n",
    "        row[node.attrib.get(\"name\")] = node.attrib.get(\"value\")\n",
    "    df_modeParameters.append(row)\n",
    "df_modeParameters = pd.DataFrame(df_modeParameters)\n",
    "df_modeParameters['run_name'] = 'test'"
   ]
  }
 ],
 "metadata": {
  "kernelspec": {
   "display_name": "Python 3",
   "language": "python",
   "name": "python3"
  },
  "language_info": {
   "codemirror_mode": {
    "name": "ipython",
    "version": 3
   },
   "file_extension": ".py",
   "mimetype": "text/x-python",
   "name": "python",
   "nbconvert_exporter": "python",
   "pygments_lexer": "ipython3",
   "version": "3.7.10"
  }
 },
 "nbformat": 4,
 "nbformat_minor": 4
}
